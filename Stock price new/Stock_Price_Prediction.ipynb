{
  "cells": [
    {
      "cell_type": "code",
      "execution_count": null,
      "id": "FXdyjZ21153p",
      "metadata": {
        "colab": {
          "base_uri": "https://localhost:8080/"
        },
        "id": "FXdyjZ21153p",
        "outputId": "3000901e-88cd-4a3a-8102-c5f7f68835df"
      },
      "outputs": [
        {
          "name": "stdout",
          "output_type": "stream",
          "text": [
            "Requirement already satisfied: pandas in c:\\users\\abhishek patel\\miniconda3\\lib\\site-packages (2.2.3)\n",
            "Requirement already satisfied: numpy in c:\\users\\abhishek patel\\miniconda3\\lib\\site-packages (2.2.4)\n",
            "Requirement already satisfied: matplotlib in c:\\users\\abhishek patel\\miniconda3\\lib\\site-packages (3.10.1)\n",
            "Requirement already satisfied: pandas_datareader in c:\\users\\abhishek patel\\miniconda3\\lib\\site-packages (0.10.0)\n",
            "Requirement already satisfied: yfinance in c:\\users\\abhishek patel\\miniconda3\\lib\\site-packages (0.2.55)\n",
            "Requirement already satisfied: python-dateutil>=2.8.2 in c:\\users\\abhishek patel\\miniconda3\\lib\\site-packages (from pandas) (2.9.0.post0)\n",
            "Requirement already satisfied: pytz>=2020.1 in c:\\users\\abhishek patel\\miniconda3\\lib\\site-packages (from pandas) (2025.2)\n",
            "Requirement already satisfied: tzdata>=2022.7 in c:\\users\\abhishek patel\\miniconda3\\lib\\site-packages (from pandas) (2025.2)\n",
            "Requirement already satisfied: contourpy>=1.0.1 in c:\\users\\abhishek patel\\miniconda3\\lib\\site-packages (from matplotlib) (1.3.1)\n",
            "Requirement already satisfied: cycler>=0.10 in c:\\users\\abhishek patel\\miniconda3\\lib\\site-packages (from matplotlib) (0.12.1)\n",
            "Requirement already satisfied: fonttools>=4.22.0 in c:\\users\\abhishek patel\\miniconda3\\lib\\site-packages (from matplotlib) (4.56.0)\n",
            "Requirement already satisfied: kiwisolver>=1.3.1 in c:\\users\\abhishek patel\\miniconda3\\lib\\site-packages (from matplotlib) (1.4.8)\n",
            "Requirement already satisfied: packaging>=20.0 in c:\\users\\abhishek patel\\miniconda3\\lib\\site-packages (from matplotlib) (24.2)\n",
            "Requirement already satisfied: pillow>=8 in c:\\users\\abhishek patel\\miniconda3\\lib\\site-packages (from matplotlib) (11.1.0)\n",
            "Requirement already satisfied: pyparsing>=2.3.1 in c:\\users\\abhishek patel\\miniconda3\\lib\\site-packages (from matplotlib) (3.2.3)\n",
            "Requirement already satisfied: lxml in c:\\users\\abhishek patel\\miniconda3\\lib\\site-packages (from pandas_datareader) (5.3.1)\n",
            "Requirement already satisfied: requests>=2.19.0 in c:\\users\\abhishek patel\\miniconda3\\lib\\site-packages (from pandas_datareader) (2.32.3)\n",
            "Requirement already satisfied: multitasking>=0.0.7 in c:\\users\\abhishek patel\\miniconda3\\lib\\site-packages (from yfinance) (0.0.11)\n",
            "Requirement already satisfied: platformdirs>=2.0.0 in c:\\users\\abhishek patel\\miniconda3\\lib\\site-packages (from yfinance) (3.10.0)\n",
            "Requirement already satisfied: frozendict>=2.3.4 in c:\\users\\abhishek patel\\miniconda3\\lib\\site-packages (from yfinance) (2.4.2)\n",
            "Requirement already satisfied: peewee>=3.16.2 in c:\\users\\abhishek patel\\miniconda3\\lib\\site-packages (from yfinance) (3.17.9)\n",
            "Requirement already satisfied: beautifulsoup4>=4.11.1 in c:\\users\\abhishek patel\\miniconda3\\lib\\site-packages (from yfinance) (4.13.3)\n",
            "Requirement already satisfied: soupsieve>1.2 in c:\\users\\abhishek patel\\miniconda3\\lib\\site-packages (from beautifulsoup4>=4.11.1->yfinance) (2.6)\n",
            "Requirement already satisfied: typing-extensions>=4.0.0 in c:\\users\\abhishek patel\\miniconda3\\lib\\site-packages (from beautifulsoup4>=4.11.1->yfinance) (4.12.2)\n",
            "Requirement already satisfied: six>=1.5 in c:\\users\\abhishek patel\\miniconda3\\lib\\site-packages (from python-dateutil>=2.8.2->pandas) (1.17.0)\n",
            "Requirement already satisfied: charset-normalizer<4,>=2 in c:\\users\\abhishek patel\\miniconda3\\lib\\site-packages (from requests>=2.19.0->pandas_datareader) (3.3.2)\n",
            "Requirement already satisfied: idna<4,>=2.5 in c:\\users\\abhishek patel\\miniconda3\\lib\\site-packages (from requests>=2.19.0->pandas_datareader) (3.7)\n",
            "Requirement already satisfied: urllib3<3,>=1.21.1 in c:\\users\\abhishek patel\\miniconda3\\lib\\site-packages (from requests>=2.19.0->pandas_datareader) (2.3.0)\n",
            "Requirement already satisfied: certifi>=2017.4.17 in c:\\users\\abhishek patel\\miniconda3\\lib\\site-packages (from requests>=2.19.0->pandas_datareader) (2025.1.31)\n",
            "Note: you may need to restart the kernel to use updated packages.\n"
          ]
        }
      ],
      "source": [
        "\n"
      ]
    },
    {
      "cell_type": "code",
      "execution_count": 4,
      "id": "b57743ea",
      "metadata": {
        "colab": {
          "base_uri": "https://localhost:8080/"
        },
        "id": "b57743ea",
        "outputId": "2ebb89a2-897a-4705-8a4d-871a9d27ac94"
      },
      "outputs": [
        {
          "name": "stderr",
          "output_type": "stream",
          "text": [
            "[*********************100%***********************]  1 of 1 completed\n"
          ]
        }
      ],
      "source": [
        "import yfinance as yf\n",
        "import datetime as dt\n",
        "\n",
        "stock = \"POWERGRID.NS\"\n",
        "start = dt.datetime(2000, 1, 1)\n",
        "end = dt.datetime(2024, 11, 1)\n",
        "# Download historical data for the stock\n",
        "\n",
        "df = yf.download(stock, start, end)"
      ]
    },
    {
      "cell_type": "code",
      "execution_count": 5,
      "id": "ec299eef",
      "metadata": {
        "id": "ec299eef"
      },
      "outputs": [],
      "source": [
        "import pandas as pd\n",
        "import numpy as np\n",
        "import matplotlib.pyplot as plt\n",
        "import pandas_datareader as data\n",
        "\n",
        "plt.style.use('fivethirtyeight')\n",
        "%matplotlib inline"
      ]
    },
    {
      "cell_type": "code",
      "execution_count": 6,
      "id": "b9b019ac",
      "metadata": {
        "colab": {
          "base_uri": "https://localhost:8080/",
          "height": 269
        },
        "id": "b9b019ac",
        "outputId": "7a81a7fc-7953-444e-c210-0d7d140340da"
      },
      "outputs": [
        {
          "data": {
            "text/html": [
              "<div>\n",
              "<style scoped>\n",
              "    .dataframe tbody tr th:only-of-type {\n",
              "        vertical-align: middle;\n",
              "    }\n",
              "\n",
              "    .dataframe tbody tr th {\n",
              "        vertical-align: top;\n",
              "    }\n",
              "\n",
              "    .dataframe thead tr th {\n",
              "        text-align: left;\n",
              "    }\n",
              "\n",
              "    .dataframe thead tr:last-of-type th {\n",
              "        text-align: right;\n",
              "    }\n",
              "</style>\n",
              "<table border=\"1\" class=\"dataframe\">\n",
              "  <thead>\n",
              "    <tr>\n",
              "      <th>Price</th>\n",
              "      <th>Close</th>\n",
              "      <th>High</th>\n",
              "      <th>Low</th>\n",
              "      <th>Open</th>\n",
              "      <th>Volume</th>\n",
              "    </tr>\n",
              "    <tr>\n",
              "      <th>Ticker</th>\n",
              "      <th>POWERGRID.NS</th>\n",
              "      <th>POWERGRID.NS</th>\n",
              "      <th>POWERGRID.NS</th>\n",
              "      <th>POWERGRID.NS</th>\n",
              "      <th>POWERGRID.NS</th>\n",
              "    </tr>\n",
              "    <tr>\n",
              "      <th>Date</th>\n",
              "      <th></th>\n",
              "      <th></th>\n",
              "      <th></th>\n",
              "      <th></th>\n",
              "      <th></th>\n",
              "    </tr>\n",
              "  </thead>\n",
              "  <tbody>\n",
              "    <tr>\n",
              "      <th>2007-10-05</th>\n",
              "      <td>32.385578</td>\n",
              "      <td>35.250705</td>\n",
              "      <td>26.768000</td>\n",
              "      <td>28.908797</td>\n",
              "      <td>855215656</td>\n",
              "    </tr>\n",
              "    <tr>\n",
              "      <th>2007-10-08</th>\n",
              "      <td>30.727667</td>\n",
              "      <td>33.480119</td>\n",
              "      <td>30.534512</td>\n",
              "      <td>33.480119</td>\n",
              "      <td>126671715</td>\n",
              "    </tr>\n",
              "    <tr>\n",
              "      <th>2007-10-09</th>\n",
              "      <td>32.820175</td>\n",
              "      <td>33.109906</td>\n",
              "      <td>29.085854</td>\n",
              "      <td>30.743763</td>\n",
              "      <td>116725709</td>\n",
              "    </tr>\n",
              "    <tr>\n",
              "      <th>2007-10-10</th>\n",
              "      <td>33.126011</td>\n",
              "      <td>33.802053</td>\n",
              "      <td>32.836280</td>\n",
              "      <td>33.673282</td>\n",
              "      <td>67931378</td>\n",
              "    </tr>\n",
              "    <tr>\n",
              "      <th>2007-10-11</th>\n",
              "      <td>36.828136</td>\n",
              "      <td>38.630913</td>\n",
              "      <td>32.836277</td>\n",
              "      <td>38.630913</td>\n",
              "      <td>106320954</td>\n",
              "    </tr>\n",
              "  </tbody>\n",
              "</table>\n",
              "</div>"
            ],
            "text/plain": [
              "Price             Close         High          Low         Open       Volume\n",
              "Ticker     POWERGRID.NS POWERGRID.NS POWERGRID.NS POWERGRID.NS POWERGRID.NS\n",
              "Date                                                                       \n",
              "2007-10-05    32.385578    35.250705    26.768000    28.908797    855215656\n",
              "2007-10-08    30.727667    33.480119    30.534512    33.480119    126671715\n",
              "2007-10-09    32.820175    33.109906    29.085854    30.743763    116725709\n",
              "2007-10-10    33.126011    33.802053    32.836280    33.673282     67931378\n",
              "2007-10-11    36.828136    38.630913    32.836277    38.630913    106320954"
            ]
          },
          "execution_count": 6,
          "metadata": {},
          "output_type": "execute_result"
        }
      ],
      "source": [
        "df.head()"
      ]
    },
    {
      "cell_type": "code",
      "execution_count": 7,
      "id": "e7ffa0c1",
      "metadata": {
        "colab": {
          "base_uri": "https://localhost:8080/"
        },
        "id": "e7ffa0c1",
        "outputId": "ec25bd91-1740-477a-f34a-2b3635a88765"
      },
      "outputs": [
        {
          "data": {
            "text/plain": [
              "(4208, 5)"
            ]
          },
          "execution_count": 7,
          "metadata": {},
          "output_type": "execute_result"
        }
      ],
      "source": [
        "df.shape"
      ]
    },
    {
      "cell_type": "code",
      "execution_count": 8,
      "id": "700ddcc0",
      "metadata": {
        "colab": {
          "base_uri": "https://localhost:8080/"
        },
        "id": "700ddcc0",
        "outputId": "2b6f722c-d66c-4a72-99b6-89bd2820e349"
      },
      "outputs": [
        {
          "name": "stdout",
          "output_type": "stream",
          "text": [
            "<class 'pandas.core.frame.DataFrame'>\n",
            "DatetimeIndex: 4208 entries, 2007-10-05 to 2024-10-31\n",
            "Data columns (total 5 columns):\n",
            " #   Column                  Non-Null Count  Dtype  \n",
            "---  ------                  --------------  -----  \n",
            " 0   (Close, POWERGRID.NS)   4208 non-null   float64\n",
            " 1   (High, POWERGRID.NS)    4208 non-null   float64\n",
            " 2   (Low, POWERGRID.NS)     4208 non-null   float64\n",
            " 3   (Open, POWERGRID.NS)    4208 non-null   float64\n",
            " 4   (Volume, POWERGRID.NS)  4208 non-null   int64  \n",
            "dtypes: float64(4), int64(1)\n",
            "memory usage: 197.2 KB\n"
          ]
        }
      ],
      "source": [
        "df.info()"
      ]
    },
    {
      "cell_type": "code",
      "execution_count": 9,
      "id": "772aa0fd",
      "metadata": {
        "colab": {
          "base_uri": "https://localhost:8080/",
          "height": 272
        },
        "id": "772aa0fd",
        "outputId": "990d0ec3-fcd0-4855-8466-abee207dc015"
      },
      "outputs": [
        {
          "data": {
            "text/plain": [
              "Price   Ticker      \n",
              "Close   POWERGRID.NS    0\n",
              "High    POWERGRID.NS    0\n",
              "Low     POWERGRID.NS    0\n",
              "Open    POWERGRID.NS    0\n",
              "Volume  POWERGRID.NS    0\n",
              "dtype: int64"
            ]
          },
          "execution_count": 9,
          "metadata": {},
          "output_type": "execute_result"
        }
      ],
      "source": [
        "df.isnull().sum()"
      ]
    },
    {
      "cell_type": "code",
      "execution_count": 10,
      "id": "f0545710",
      "metadata": {
        "colab": {
          "base_uri": "https://localhost:8080/",
          "height": 331
        },
        "id": "f0545710",
        "outputId": "6080a268-d554-47fc-a569-b4956357e00d"
      },
      "outputs": [
        {
          "data": {
            "text/html": [
              "<div>\n",
              "<style scoped>\n",
              "    .dataframe tbody tr th:only-of-type {\n",
              "        vertical-align: middle;\n",
              "    }\n",
              "\n",
              "    .dataframe tbody tr th {\n",
              "        vertical-align: top;\n",
              "    }\n",
              "\n",
              "    .dataframe thead tr th {\n",
              "        text-align: left;\n",
              "    }\n",
              "</style>\n",
              "<table border=\"1\" class=\"dataframe\">\n",
              "  <thead>\n",
              "    <tr>\n",
              "      <th>Price</th>\n",
              "      <th>Close</th>\n",
              "      <th>High</th>\n",
              "      <th>Low</th>\n",
              "      <th>Open</th>\n",
              "      <th>Volume</th>\n",
              "    </tr>\n",
              "    <tr>\n",
              "      <th>Ticker</th>\n",
              "      <th>POWERGRID.NS</th>\n",
              "      <th>POWERGRID.NS</th>\n",
              "      <th>POWERGRID.NS</th>\n",
              "      <th>POWERGRID.NS</th>\n",
              "      <th>POWERGRID.NS</th>\n",
              "    </tr>\n",
              "  </thead>\n",
              "  <tbody>\n",
              "    <tr>\n",
              "      <th>count</th>\n",
              "      <td>4208.000000</td>\n",
              "      <td>4208.000000</td>\n",
              "      <td>4208.000000</td>\n",
              "      <td>4208.000000</td>\n",
              "      <td>4.208000e+03</td>\n",
              "    </tr>\n",
              "    <tr>\n",
              "      <th>mean</th>\n",
              "      <td>79.255945</td>\n",
              "      <td>80.286305</td>\n",
              "      <td>78.238144</td>\n",
              "      <td>79.292804</td>\n",
              "      <td>1.188963e+07</td>\n",
              "    </tr>\n",
              "    <tr>\n",
              "      <th>std</th>\n",
              "      <td>63.621687</td>\n",
              "      <td>64.365265</td>\n",
              "      <td>62.829875</td>\n",
              "      <td>63.603316</td>\n",
              "      <td>2.061999e+07</td>\n",
              "    </tr>\n",
              "    <tr>\n",
              "      <th>min</th>\n",
              "      <td>18.908403</td>\n",
              "      <td>20.212431</td>\n",
              "      <td>16.952362</td>\n",
              "      <td>20.114628</td>\n",
              "      <td>0.000000e+00</td>\n",
              "    </tr>\n",
              "    <tr>\n",
              "      <th>25%</th>\n",
              "      <td>36.349710</td>\n",
              "      <td>36.923185</td>\n",
              "      <td>35.812866</td>\n",
              "      <td>36.386937</td>\n",
              "      <td>4.799653e+06</td>\n",
              "    </tr>\n",
              "    <tr>\n",
              "      <th>50%</th>\n",
              "      <td>55.232330</td>\n",
              "      <td>55.870052</td>\n",
              "      <td>54.493162</td>\n",
              "      <td>55.338367</td>\n",
              "      <td>8.344398e+06</td>\n",
              "    </tr>\n",
              "    <tr>\n",
              "      <th>75%</th>\n",
              "      <td>82.704781</td>\n",
              "      <td>83.691970</td>\n",
              "      <td>81.724059</td>\n",
              "      <td>82.727259</td>\n",
              "      <td>1.362032e+07</td>\n",
              "    </tr>\n",
              "    <tr>\n",
              "      <th>max</th>\n",
              "      <td>356.113861</td>\n",
              "      <td>356.893408</td>\n",
              "      <td>348.074624</td>\n",
              "      <td>354.749603</td>\n",
              "      <td>8.552157e+08</td>\n",
              "    </tr>\n",
              "  </tbody>\n",
              "</table>\n",
              "</div>"
            ],
            "text/plain": [
              "Price         Close         High          Low         Open        Volume\n",
              "Ticker POWERGRID.NS POWERGRID.NS POWERGRID.NS POWERGRID.NS  POWERGRID.NS\n",
              "count   4208.000000  4208.000000  4208.000000  4208.000000  4.208000e+03\n",
              "mean      79.255945    80.286305    78.238144    79.292804  1.188963e+07\n",
              "std       63.621687    64.365265    62.829875    63.603316  2.061999e+07\n",
              "min       18.908403    20.212431    16.952362    20.114628  0.000000e+00\n",
              "25%       36.349710    36.923185    35.812866    36.386937  4.799653e+06\n",
              "50%       55.232330    55.870052    54.493162    55.338367  8.344398e+06\n",
              "75%       82.704781    83.691970    81.724059    82.727259  1.362032e+07\n",
              "max      356.113861   356.893408   348.074624   354.749603  8.552157e+08"
            ]
          },
          "execution_count": 10,
          "metadata": {},
          "output_type": "execute_result"
        }
      ],
      "source": [
        "df.describe()"
      ]
    },
    {
      "cell_type": "code",
      "execution_count": 11,
      "id": "f440c977",
      "metadata": {
        "id": "f440c977"
      },
      "outputs": [],
      "source": [
        "df = df.reset_index()"
      ]
    },
    {
      "cell_type": "code",
      "execution_count": 12,
      "id": "f9f248ea",
      "metadata": {
        "colab": {
          "base_uri": "https://localhost:8080/"
        },
        "id": "f9f248ea",
        "outputId": "9ddca035-f5f5-4024-f627-d7fbe95287e5"
      },
      "outputs": [
        {
          "data": {
            "text/plain": [
              "MultiIndex([(  'Date',             ''),\n",
              "            ( 'Close', 'POWERGRID.NS'),\n",
              "            (  'High', 'POWERGRID.NS'),\n",
              "            (   'Low', 'POWERGRID.NS'),\n",
              "            (  'Open', 'POWERGRID.NS'),\n",
              "            ('Volume', 'POWERGRID.NS')],\n",
              "           names=['Price', 'Ticker'])"
            ]
          },
          "execution_count": 12,
          "metadata": {},
          "output_type": "execute_result"
        }
      ],
      "source": [
        "df.columns"
      ]
    },
    {
      "cell_type": "code",
      "execution_count": 13,
      "id": "7105ee62",
      "metadata": {
        "id": "7105ee62"
      },
      "outputs": [],
      "source": [
        "df.to_csv(\"powergrid.csv\")"
      ]
    },
    {
      "cell_type": "code",
      "execution_count": 14,
      "id": "91ebf02e",
      "metadata": {
        "id": "91ebf02e"
      },
      "outputs": [],
      "source": [
        "data01 = pd.read_csv(\"powergrid.csv\")"
      ]
    },
    {
      "cell_type": "code",
      "execution_count": 15,
      "id": "0ea0a717",
      "metadata": {
        "colab": {
          "base_uri": "https://localhost:8080/",
          "height": 295
        },
        "id": "0ea0a717",
        "outputId": "06944fb4-65dc-42d1-85ef-53199713a0fb"
      },
      "outputs": [
        {
          "data": {
            "text/html": [
              "<div>\n",
              "<style scoped>\n",
              "    .dataframe tbody tr th:only-of-type {\n",
              "        vertical-align: middle;\n",
              "    }\n",
              "\n",
              "    .dataframe tbody tr th {\n",
              "        vertical-align: top;\n",
              "    }\n",
              "\n",
              "    .dataframe thead th {\n",
              "        text-align: right;\n",
              "    }\n",
              "</style>\n",
              "<table border=\"1\" class=\"dataframe\">\n",
              "  <thead>\n",
              "    <tr style=\"text-align: right;\">\n",
              "      <th></th>\n",
              "      <th>Price</th>\n",
              "      <th>Date</th>\n",
              "      <th>Close</th>\n",
              "      <th>High</th>\n",
              "      <th>Low</th>\n",
              "      <th>Open</th>\n",
              "      <th>Volume</th>\n",
              "    </tr>\n",
              "  </thead>\n",
              "  <tbody>\n",
              "    <tr>\n",
              "      <th>0</th>\n",
              "      <td>Ticker</td>\n",
              "      <td>NaN</td>\n",
              "      <td>POWERGRID.NS</td>\n",
              "      <td>POWERGRID.NS</td>\n",
              "      <td>POWERGRID.NS</td>\n",
              "      <td>POWERGRID.NS</td>\n",
              "      <td>POWERGRID.NS</td>\n",
              "    </tr>\n",
              "    <tr>\n",
              "      <th>1</th>\n",
              "      <td>0</td>\n",
              "      <td>2007-10-05</td>\n",
              "      <td>32.38557815551758</td>\n",
              "      <td>35.250704510369104</td>\n",
              "      <td>26.767999775913133</td>\n",
              "      <td>28.908796765471156</td>\n",
              "      <td>855215656</td>\n",
              "    </tr>\n",
              "    <tr>\n",
              "      <th>2</th>\n",
              "      <td>1</td>\n",
              "      <td>2007-10-08</td>\n",
              "      <td>30.7276668548584</td>\n",
              "      <td>33.48011863436938</td>\n",
              "      <td>30.53451150138165</td>\n",
              "      <td>33.48011863436938</td>\n",
              "      <td>126671715</td>\n",
              "    </tr>\n",
              "    <tr>\n",
              "      <th>3</th>\n",
              "      <td>2</td>\n",
              "      <td>2007-10-09</td>\n",
              "      <td>32.82017517089844</td>\n",
              "      <td>33.10990603070133</td>\n",
              "      <td>29.085854182395227</td>\n",
              "      <td>30.743762670622203</td>\n",
              "      <td>116725709</td>\n",
              "    </tr>\n",
              "    <tr>\n",
              "      <th>4</th>\n",
              "      <td>3</td>\n",
              "      <td>2007-10-10</td>\n",
              "      <td>33.12601089477539</td>\n",
              "      <td>33.80205264632212</td>\n",
              "      <td>32.8362799630773</td>\n",
              "      <td>33.67328164530978</td>\n",
              "      <td>67931378</td>\n",
              "    </tr>\n",
              "  </tbody>\n",
              "</table>\n",
              "</div>"
            ],
            "text/plain": [
              "    Price        Date              Close                High  \\\n",
              "0  Ticker         NaN       POWERGRID.NS        POWERGRID.NS   \n",
              "1       0  2007-10-05  32.38557815551758  35.250704510369104   \n",
              "2       1  2007-10-08   30.7276668548584   33.48011863436938   \n",
              "3       2  2007-10-09  32.82017517089844   33.10990603070133   \n",
              "4       3  2007-10-10  33.12601089477539   33.80205264632212   \n",
              "\n",
              "                  Low                Open        Volume  \n",
              "0        POWERGRID.NS        POWERGRID.NS  POWERGRID.NS  \n",
              "1  26.767999775913133  28.908796765471156     855215656  \n",
              "2   30.53451150138165   33.48011863436938     126671715  \n",
              "3  29.085854182395227  30.743762670622203     116725709  \n",
              "4    32.8362799630773   33.67328164530978      67931378  "
            ]
          },
          "execution_count": 15,
          "metadata": {},
          "output_type": "execute_result"
        }
      ],
      "source": [
        "data01.head()"
      ]
    },
    {
      "cell_type": "code",
      "execution_count": null,
      "id": "5d09646c",
      "metadata": {},
      "outputs": [],
      "source": []
    },
    {
      "cell_type": "code",
      "execution_count": 18,
      "id": "1a41191a",
      "metadata": {},
      "outputs": [
        {
          "name": "stdout",
          "output_type": "stream",
          "text": [
            "Requirement already satisfied: nbformat==4.2.0 in c:\\users\\abhishek patel\\miniconda3\\lib\\site-packages (4.2.0)\n",
            "Requirement already satisfied: ipython-genutils in c:\\users\\abhishek patel\\miniconda3\\lib\\site-packages (from nbformat==4.2.0) (0.2.0)\n",
            "Requirement already satisfied: jsonschema!=2.5.0,>=2.4 in c:\\users\\abhishek patel\\miniconda3\\lib\\site-packages (from nbformat==4.2.0) (4.23.0)\n",
            "Requirement already satisfied: jupyter-core in c:\\users\\abhishek patel\\miniconda3\\lib\\site-packages (from nbformat==4.2.0) (5.7.2)\n",
            "Requirement already satisfied: traitlets>=4.1 in c:\\users\\abhishek patel\\miniconda3\\lib\\site-packages (from nbformat==4.2.0) (5.14.3)\n",
            "Requirement already satisfied: attrs>=22.2.0 in c:\\users\\abhishek patel\\miniconda3\\lib\\site-packages (from jsonschema!=2.5.0,>=2.4->nbformat==4.2.0) (25.3.0)\n",
            "Requirement already satisfied: jsonschema-specifications>=2023.03.6 in c:\\users\\abhishek patel\\miniconda3\\lib\\site-packages (from jsonschema!=2.5.0,>=2.4->nbformat==4.2.0) (2024.10.1)\n",
            "Requirement already satisfied: referencing>=0.28.4 in c:\\users\\abhishek patel\\miniconda3\\lib\\site-packages (from jsonschema!=2.5.0,>=2.4->nbformat==4.2.0) (0.36.2)\n",
            "Requirement already satisfied: rpds-py>=0.7.1 in c:\\users\\abhishek patel\\miniconda3\\lib\\site-packages (from jsonschema!=2.5.0,>=2.4->nbformat==4.2.0) (0.24.0)\n",
            "Requirement already satisfied: platformdirs>=2.5 in c:\\users\\abhishek patel\\miniconda3\\lib\\site-packages (from jupyter-core->nbformat==4.2.0) (4.3.7)\n",
            "Requirement already satisfied: pywin32>=300 in c:\\users\\abhishek patel\\miniconda3\\lib\\site-packages (from jupyter-core->nbformat==4.2.0) (310)\n",
            "Requirement already satisfied: typing-extensions>=4.4.0 in c:\\users\\abhishek patel\\miniconda3\\lib\\site-packages (from referencing>=0.28.4->jsonschema!=2.5.0,>=2.4->nbformat==4.2.0) (4.13.0)\n",
            "Note: you may need to restart the kernel to use updated packages.\n"
          ]
        }
      ],
      "source": [
        "%pip install nbformat==4.2.0"
      ]
    },
    {
      "cell_type": "code",
      "execution_count": null,
      "id": "6b0d0a8c",
      "metadata": {},
      "outputs": [],
      "source": []
    },
    {
      "cell_type": "code",
      "execution_count": 53,
      "id": "ad29a4f6",
      "metadata": {
        "colab": {
          "base_uri": "https://localhost:8080/",
          "height": 542
        },
        "id": "ad29a4f6",
        "outputId": "131a7fc2-f03a-48bc-ead1-dc6d5af43658"
      },
      "outputs": [
        {
          "ename": "ValueError",
          "evalue": "Mime type rendering requires nbformat>=4.2.0 but it is not installed",
          "output_type": "error",
          "traceback": [
            "\u001b[31m---------------------------------------------------------------------------\u001b[39m",
            "\u001b[31mValueError\u001b[39m                                Traceback (most recent call last)",
            "\u001b[36mCell\u001b[39m\u001b[36m \u001b[39m\u001b[32mIn[53]\u001b[39m\u001b[32m, line 9\u001b[39m\n\u001b[32m      4\u001b[39m fig = go.Figure(data=[go.Candlestick(x = data01[\u001b[33m'\u001b[39m\u001b[33mDate\u001b[39m\u001b[33m'\u001b[39m], \u001b[38;5;28mopen\u001b[39m = data01[\u001b[33m'\u001b[39m\u001b[33mOpen\u001b[39m\u001b[33m'\u001b[39m],\n\u001b[32m      5\u001b[39m                                     high = data01[\u001b[33m'\u001b[39m\u001b[33mHigh\u001b[39m\u001b[33m'\u001b[39m],\n\u001b[32m      6\u001b[39m                                     low = data01[\u001b[33m'\u001b[39m\u001b[33mLow\u001b[39m\u001b[33m'\u001b[39m],\n\u001b[32m      7\u001b[39m                                     close = data01[\u001b[33m'\u001b[39m\u001b[33mClose\u001b[39m\u001b[33m'\u001b[39m])])\n\u001b[32m      8\u001b[39m fig.update_layout(xaxis_rangeslider_visible=\u001b[38;5;28;01mFalse\u001b[39;00m)\n\u001b[32m----> \u001b[39m\u001b[32m9\u001b[39m \u001b[43mfig\u001b[49m\u001b[43m.\u001b[49m\u001b[43mshow\u001b[49m\u001b[43m(\u001b[49m\u001b[43m)\u001b[49m\n",
            "\u001b[36mFile \u001b[39m\u001b[32mc:\\Users\\Abhishek patel\\miniconda3\\Lib\\site-packages\\plotly\\basedatatypes.py:3414\u001b[39m, in \u001b[36mBaseFigure.show\u001b[39m\u001b[34m(self, *args, **kwargs)\u001b[39m\n\u001b[32m   3381\u001b[39m \u001b[38;5;250m\u001b[39m\u001b[33;03m\"\"\"\u001b[39;00m\n\u001b[32m   3382\u001b[39m \u001b[33;03mShow a figure using either the default renderer(s) or the renderer(s)\u001b[39;00m\n\u001b[32m   3383\u001b[39m \u001b[33;03mspecified by the renderer argument\u001b[39;00m\n\u001b[32m   (...)\u001b[39m\u001b[32m   3410\u001b[39m \u001b[33;03mNone\u001b[39;00m\n\u001b[32m   3411\u001b[39m \u001b[33;03m\"\"\"\u001b[39;00m\n\u001b[32m   3412\u001b[39m \u001b[38;5;28;01mimport\u001b[39;00m \u001b[34;01mplotly\u001b[39;00m\u001b[34;01m.\u001b[39;00m\u001b[34;01mio\u001b[39;00m \u001b[38;5;28;01mas\u001b[39;00m \u001b[34;01mpio\u001b[39;00m\n\u001b[32m-> \u001b[39m\u001b[32m3414\u001b[39m \u001b[38;5;28;01mreturn\u001b[39;00m \u001b[43mpio\u001b[49m\u001b[43m.\u001b[49m\u001b[43mshow\u001b[49m\u001b[43m(\u001b[49m\u001b[38;5;28;43mself\u001b[39;49m\u001b[43m,\u001b[49m\u001b[43m \u001b[49m\u001b[43m*\u001b[49m\u001b[43margs\u001b[49m\u001b[43m,\u001b[49m\u001b[43m \u001b[49m\u001b[43m*\u001b[49m\u001b[43m*\u001b[49m\u001b[43mkwargs\u001b[49m\u001b[43m)\u001b[49m\n",
            "\u001b[36mFile \u001b[39m\u001b[32mc:\\Users\\Abhishek patel\\miniconda3\\Lib\\site-packages\\plotly\\io\\_renderers.py:425\u001b[39m, in \u001b[36mshow\u001b[39m\u001b[34m(fig, renderer, validate, **kwargs)\u001b[39m\n\u001b[32m    420\u001b[39m     \u001b[38;5;28;01mraise\u001b[39;00m \u001b[38;5;167;01mValueError\u001b[39;00m(\n\u001b[32m    421\u001b[39m         \u001b[33m\"\u001b[39m\u001b[33mMime type rendering requires ipython but it is not installed\u001b[39m\u001b[33m\"\u001b[39m\n\u001b[32m    422\u001b[39m     )\n\u001b[32m    424\u001b[39m \u001b[38;5;28;01mif\u001b[39;00m \u001b[38;5;129;01mnot\u001b[39;00m nbformat \u001b[38;5;129;01mor\u001b[39;00m Version(nbformat.__version__) < Version(\u001b[33m\"\u001b[39m\u001b[33m4.2.0\u001b[39m\u001b[33m\"\u001b[39m):\n\u001b[32m--> \u001b[39m\u001b[32m425\u001b[39m     \u001b[38;5;28;01mraise\u001b[39;00m \u001b[38;5;167;01mValueError\u001b[39;00m(\n\u001b[32m    426\u001b[39m         \u001b[33m\"\u001b[39m\u001b[33mMime type rendering requires nbformat>=4.2.0 but it is not installed\u001b[39m\u001b[33m\"\u001b[39m\n\u001b[32m    427\u001b[39m     )\n\u001b[32m    429\u001b[39m display_jupyter_version_warnings()\n\u001b[32m    431\u001b[39m ipython_display.display(bundle, raw=\u001b[38;5;28;01mTrue\u001b[39;00m)\n",
            "\u001b[31mValueError\u001b[39m: Mime type rendering requires nbformat>=4.2.0 but it is not installed"
          ]
        }
      ],
      "source": [
        "# Candlesticks\n",
        "import plotly.graph_objects as go\n",
        "\n",
        "fig = go.Figure(data=[go.Candlestick(x = data01['Date'], open = data01['Open'],\n",
        "                                    high = data01['High'],\n",
        "                                    low = data01['Low'],\n",
        "                                    close = data01['Close'])])\n",
        "fig.update_layout(xaxis_rangeslider_visible=False)\n",
        "fig.show()"
      ]
    },
    {
      "cell_type": "code",
      "execution_count": 21,
      "id": "f674436c",
      "metadata": {},
      "outputs": [
        {
          "data": {
            "text/html": [
              "<div>\n",
              "<style scoped>\n",
              "    .dataframe tbody tr th:only-of-type {\n",
              "        vertical-align: middle;\n",
              "    }\n",
              "\n",
              "    .dataframe tbody tr th {\n",
              "        vertical-align: top;\n",
              "    }\n",
              "\n",
              "    .dataframe thead th {\n",
              "        text-align: right;\n",
              "    }\n",
              "</style>\n",
              "<table border=\"1\" class=\"dataframe\">\n",
              "  <thead>\n",
              "    <tr style=\"text-align: right;\">\n",
              "      <th></th>\n",
              "      <th>Price</th>\n",
              "      <th>Date</th>\n",
              "      <th>Close</th>\n",
              "      <th>High</th>\n",
              "      <th>Low</th>\n",
              "      <th>Open</th>\n",
              "      <th>Volume</th>\n",
              "    </tr>\n",
              "  </thead>\n",
              "  <tbody>\n",
              "    <tr>\n",
              "      <th>0</th>\n",
              "      <td>Ticker</td>\n",
              "      <td>NaN</td>\n",
              "      <td>POWERGRID.NS</td>\n",
              "      <td>POWERGRID.NS</td>\n",
              "      <td>POWERGRID.NS</td>\n",
              "      <td>POWERGRID.NS</td>\n",
              "      <td>POWERGRID.NS</td>\n",
              "    </tr>\n",
              "    <tr>\n",
              "      <th>1</th>\n",
              "      <td>0</td>\n",
              "      <td>2007-10-05</td>\n",
              "      <td>32.38557815551758</td>\n",
              "      <td>35.250704510369104</td>\n",
              "      <td>26.767999775913133</td>\n",
              "      <td>28.908796765471156</td>\n",
              "      <td>855215656</td>\n",
              "    </tr>\n",
              "    <tr>\n",
              "      <th>2</th>\n",
              "      <td>1</td>\n",
              "      <td>2007-10-08</td>\n",
              "      <td>30.7276668548584</td>\n",
              "      <td>33.48011863436938</td>\n",
              "      <td>30.53451150138165</td>\n",
              "      <td>33.48011863436938</td>\n",
              "      <td>126671715</td>\n",
              "    </tr>\n",
              "    <tr>\n",
              "      <th>3</th>\n",
              "      <td>2</td>\n",
              "      <td>2007-10-09</td>\n",
              "      <td>32.82017517089844</td>\n",
              "      <td>33.10990603070133</td>\n",
              "      <td>29.085854182395227</td>\n",
              "      <td>30.743762670622203</td>\n",
              "      <td>116725709</td>\n",
              "    </tr>\n",
              "    <tr>\n",
              "      <th>4</th>\n",
              "      <td>3</td>\n",
              "      <td>2007-10-10</td>\n",
              "      <td>33.12601089477539</td>\n",
              "      <td>33.80205264632212</td>\n",
              "      <td>32.8362799630773</td>\n",
              "      <td>33.67328164530978</td>\n",
              "      <td>67931378</td>\n",
              "    </tr>\n",
              "    <tr>\n",
              "      <th>5</th>\n",
              "      <td>4</td>\n",
              "      <td>2007-10-11</td>\n",
              "      <td>36.8281364440918</td>\n",
              "      <td>38.63091284248805</td>\n",
              "      <td>32.836277226027775</td>\n",
              "      <td>38.63091284248805</td>\n",
              "      <td>106320954</td>\n",
              "    </tr>\n",
              "    <tr>\n",
              "      <th>6</th>\n",
              "      <td>5</td>\n",
              "      <td>2007-10-12</td>\n",
              "      <td>36.586692810058594</td>\n",
              "      <td>37.95487064587003</td>\n",
              "      <td>35.733594562180855</td>\n",
              "      <td>36.05551875884237</td>\n",
              "      <td>99410791</td>\n",
              "    </tr>\n",
              "    <tr>\n",
              "      <th>7</th>\n",
              "      <td>6</td>\n",
              "      <td>2007-10-15</td>\n",
              "      <td>37.069576263427734</td>\n",
              "      <td>37.568561349828464</td>\n",
              "      <td>36.7476520914438</td>\n",
              "      <td>37.343212682889295</td>\n",
              "      <td>41814972</td>\n",
              "    </tr>\n",
              "    <tr>\n",
              "      <th>8</th>\n",
              "      <td>7</td>\n",
              "      <td>2007-10-16</td>\n",
              "      <td>40.8521842956543</td>\n",
              "      <td>41.49603699041757</td>\n",
              "      <td>36.86032553292788</td>\n",
              "      <td>37.117863117732455</td>\n",
              "      <td>138614496</td>\n",
              "    </tr>\n",
              "    <tr>\n",
              "      <th>9</th>\n",
              "      <td>8</td>\n",
              "      <td>2007-10-17</td>\n",
              "      <td>44.03922653198242</td>\n",
              "      <td>45.06938099237755</td>\n",
              "      <td>34.15615311388379</td>\n",
              "      <td>36.699354715589536</td>\n",
              "      <td>204876259</td>\n",
              "    </tr>\n",
              "    <tr>\n",
              "      <th>10</th>\n",
              "      <td>9</td>\n",
              "      <td>2007-10-18</td>\n",
              "      <td>42.49400329589844</td>\n",
              "      <td>48.11158235401636</td>\n",
              "      <td>40.6751324321906</td>\n",
              "      <td>44.7474727045501</td>\n",
              "      <td>146617799</td>\n",
              "    </tr>\n",
              "    <tr>\n",
              "      <th>11</th>\n",
              "      <td>10</td>\n",
              "      <td>2007-10-19</td>\n",
              "      <td>42.349124908447266</td>\n",
              "      <td>44.07141964355362</td>\n",
              "      <td>40.240519523202614</td>\n",
              "      <td>41.52821586849711</td>\n",
              "      <td>110266491</td>\n",
              "    </tr>\n",
              "    <tr>\n",
              "      <th>12</th>\n",
              "      <td>11</td>\n",
              "      <td>2007-10-22</td>\n",
              "      <td>41.7857666015625</td>\n",
              "      <td>43.089557680577606</td>\n",
              "      <td>40.40149011755646</td>\n",
              "      <td>41.49603573582313</td>\n",
              "      <td>72253405</td>\n",
              "    </tr>\n",
              "    <tr>\n",
              "      <th>13</th>\n",
              "      <td>12</td>\n",
              "      <td>2007-10-23</td>\n",
              "      <td>44.76356887817383</td>\n",
              "      <td>45.1659741058401</td>\n",
              "      <td>42.81592495644339</td>\n",
              "      <td>42.81592495644339</td>\n",
              "      <td>74594921</td>\n",
              "    </tr>\n",
              "    <tr>\n",
              "      <th>14</th>\n",
              "      <td>13</td>\n",
              "      <td>2007-10-24</td>\n",
              "      <td>44.07143020629883</td>\n",
              "      <td>46.19613055854366</td>\n",
              "      <td>43.57244513307889</td>\n",
              "      <td>45.71323994694737</td>\n",
              "      <td>63055170</td>\n",
              "    </tr>\n",
              "    <tr>\n",
              "      <th>15</th>\n",
              "      <td>14</td>\n",
              "      <td>2007-10-25</td>\n",
              "      <td>43.9748420715332</td>\n",
              "      <td>45.0050009475827</td>\n",
              "      <td>38.84015088263432</td>\n",
              "      <td>42.574471350344865</td>\n",
              "      <td>34522489</td>\n",
              "    </tr>\n",
              "    <tr>\n",
              "      <th>16</th>\n",
              "      <td>15</td>\n",
              "      <td>2007-10-26</td>\n",
              "      <td>45.29472351074219</td>\n",
              "      <td>46.019052610392144</td>\n",
              "      <td>43.54023572281813</td>\n",
              "      <td>44.74745088890139</td>\n",
              "      <td>62370025</td>\n",
              "    </tr>\n",
              "    <tr>\n",
              "      <th>17</th>\n",
              "      <td>16</td>\n",
              "      <td>2007-10-29</td>\n",
              "      <td>46.21222686767578</td>\n",
              "      <td>47.322867022635045</td>\n",
              "      <td>45.8098216472378</td>\n",
              "      <td>46.0351703172335</td>\n",
              "      <td>43657697</td>\n",
              "    </tr>\n",
              "    <tr>\n",
              "      <th>18</th>\n",
              "      <td>17</td>\n",
              "      <td>2007-10-30</td>\n",
              "      <td>47.24237823486328</td>\n",
              "      <td>48.51397590318908</td>\n",
              "      <td>45.45569672915499</td>\n",
              "      <td>46.839973080385114</td>\n",
              "      <td>79921711</td>\n",
              "    </tr>\n",
              "    <tr>\n",
              "      <th>19</th>\n",
              "      <td>18</td>\n",
              "      <td>2007-10-31</td>\n",
              "      <td>48.22425079345703</td>\n",
              "      <td>49.28660314729394</td>\n",
              "      <td>47.322864886906835</td>\n",
              "      <td>47.48382696781765</td>\n",
              "      <td>44655368</td>\n",
              "    </tr>\n",
              "    <tr>\n",
              "      <th>20</th>\n",
              "      <td>19</td>\n",
              "      <td>2007-11-01</td>\n",
              "      <td>47.145809173583984</td>\n",
              "      <td>49.78558933797749</td>\n",
              "      <td>46.7595027566523</td>\n",
              "      <td>49.415377384360156</td>\n",
              "      <td>50632492</td>\n",
              "    </tr>\n",
              "    <tr>\n",
              "      <th>21</th>\n",
              "      <td>20</td>\n",
              "      <td>2007-11-02</td>\n",
              "      <td>47.99892044067383</td>\n",
              "      <td>48.288655789920604</td>\n",
              "      <td>45.06940857749052</td>\n",
              "      <td>45.43962499788861</td>\n",
              "      <td>32001693</td>\n",
              "    </tr>\n",
              "    <tr>\n",
              "      <th>22</th>\n",
              "      <td>21</td>\n",
              "      <td>2007-11-05</td>\n",
              "      <td>48.98077392578125</td>\n",
              "      <td>50.05922075170029</td>\n",
              "      <td>47.67697843783403</td>\n",
              "      <td>47.96671367940626</td>\n",
              "      <td>38833135</td>\n",
              "    </tr>\n",
              "    <tr>\n",
              "      <th>23</th>\n",
              "      <td>22</td>\n",
              "      <td>2007-11-06</td>\n",
              "      <td>49.624610900878906</td>\n",
              "      <td>52.76337079112563</td>\n",
              "      <td>48.94856943585847</td>\n",
              "      <td>49.8338606869537</td>\n",
              "      <td>81880281</td>\n",
              "    </tr>\n",
              "    <tr>\n",
              "      <th>24</th>\n",
              "      <td>23</td>\n",
              "      <td>2007-11-07</td>\n",
              "      <td>48.900291442871094</td>\n",
              "      <td>51.25033603130588</td>\n",
              "      <td>47.80575018752306</td>\n",
              "      <td>50.542105509081054</td>\n",
              "      <td>33593141</td>\n",
              "    </tr>\n",
              "    <tr>\n",
              "      <th>25</th>\n",
              "      <td>24</td>\n",
              "      <td>2007-11-08</td>\n",
              "      <td>48.06329345703125</td>\n",
              "      <td>49.36708906093631</td>\n",
              "      <td>47.00094536470238</td>\n",
              "      <td>47.644793751902014</td>\n",
              "      <td>27990521</td>\n",
              "    </tr>\n",
              "    <tr>\n",
              "      <th>26</th>\n",
              "      <td>25</td>\n",
              "      <td>2007-11-12</td>\n",
              "      <td>49.22221755981445</td>\n",
              "      <td>50.09141456079059</td>\n",
              "      <td>45.34302871190359</td>\n",
              "      <td>46.61463092326202</td>\n",
              "      <td>35153735</td>\n",
              "    </tr>\n",
              "    <tr>\n",
              "      <th>27</th>\n",
              "      <td>26</td>\n",
              "      <td>2007-11-13</td>\n",
              "      <td>50.39723587036133</td>\n",
              "      <td>51.41129604615054</td>\n",
              "      <td>48.46569101500069</td>\n",
              "      <td>50.05921726722347</td>\n",
              "      <td>43830531</td>\n",
              "    </tr>\n",
              "    <tr>\n",
              "      <th>28</th>\n",
              "      <td>27</td>\n",
              "      <td>2007-11-14</td>\n",
              "      <td>49.737308502197266</td>\n",
              "      <td>51.990778196834576</td>\n",
              "      <td>49.47976648869824</td>\n",
              "      <td>51.28254311768349</td>\n",
              "      <td>36738579</td>\n",
              "    </tr>\n",
              "    <tr>\n",
              "      <th>29</th>\n",
              "      <td>28</td>\n",
              "      <td>2007-11-15</td>\n",
              "      <td>50.57429504394531</td>\n",
              "      <td>51.45958640579601</td>\n",
              "      <td>49.624617109228</td>\n",
              "      <td>50.670870536869735</td>\n",
              "      <td>29242252</td>\n",
              "    </tr>\n",
              "    <tr>\n",
              "      <th>30</th>\n",
              "      <td>29</td>\n",
              "      <td>2007-11-16</td>\n",
              "      <td>50.220191955566406</td>\n",
              "      <td>51.36302120222308</td>\n",
              "      <td>49.640725733550724</td>\n",
              "      <td>50.34896077166654</td>\n",
              "      <td>18895294</td>\n",
              "    </tr>\n",
              "    <tr>\n",
              "      <th>31</th>\n",
              "      <td>30</td>\n",
              "      <td>2007-11-19</td>\n",
              "      <td>52.0390510559082</td>\n",
              "      <td>53.922308206052065</td>\n",
              "      <td>50.9767031078146</td>\n",
              "      <td>51.36300946785967</td>\n",
              "      <td>40716718</td>\n",
              "    </tr>\n",
              "    <tr>\n",
              "      <th>32</th>\n",
              "      <td>31</td>\n",
              "      <td>2007-11-20</td>\n",
              "      <td>51.234249114990234</td>\n",
              "      <td>53.278468676584815</td>\n",
              "      <td>50.60649517281405</td>\n",
              "      <td>51.82980976360265</td>\n",
              "      <td>26342171</td>\n",
              "    </tr>\n",
              "    <tr>\n",
              "      <th>33</th>\n",
              "      <td>32</td>\n",
              "      <td>2007-11-21</td>\n",
              "      <td>47.24237823486328</td>\n",
              "      <td>51.8458914555434</td>\n",
              "      <td>46.099544976320054</td>\n",
              "      <td>51.540066157965214</td>\n",
              "      <td>26814499</td>\n",
              "    </tr>\n",
              "    <tr>\n",
              "      <th>34</th>\n",
              "      <td>33</td>\n",
              "      <td>2007-11-22</td>\n",
              "      <td>45.616661071777344</td>\n",
              "      <td>48.64275147785787</td>\n",
              "      <td>43.63682848602828</td>\n",
              "      <td>46.74339556065289</td>\n",
              "      <td>34096185</td>\n",
              "    </tr>\n",
              "    <tr>\n",
              "      <th>35</th>\n",
              "      <td>34</td>\n",
              "      <td>2007-11-23</td>\n",
              "      <td>48.64275360107422</td>\n",
              "      <td>48.93248446615647</td>\n",
              "      <td>45.90639392798957</td>\n",
              "      <td>48.61056031242602</td>\n",
              "      <td>27664090</td>\n",
              "    </tr>\n",
              "    <tr>\n",
              "      <th>36</th>\n",
              "      <td>35</td>\n",
              "      <td>2007-11-26</td>\n",
              "      <td>49.02906036376953</td>\n",
              "      <td>50.445525778408005</td>\n",
              "      <td>48.64275399598222</td>\n",
              "      <td>50.445525778408005</td>\n",
              "      <td>20159123</td>\n",
              "    </tr>\n",
              "    <tr>\n",
              "      <th>37</th>\n",
              "      <td>36</td>\n",
              "      <td>2007-11-27</td>\n",
              "      <td>47.82185363769531</td>\n",
              "      <td>49.866073282498654</td>\n",
              "      <td>47.32287284946353</td>\n",
              "      <td>49.866073282498654</td>\n",
              "      <td>20573198</td>\n",
              "    </tr>\n",
              "    <tr>\n",
              "      <th>38</th>\n",
              "      <td>37</td>\n",
              "      <td>2007-11-28</td>\n",
              "      <td>47.113616943359375</td>\n",
              "      <td>49.0934542945035</td>\n",
              "      <td>46.79169273879954</td>\n",
              "      <td>48.868105604761034</td>\n",
              "      <td>16435311</td>\n",
              "    </tr>\n",
              "    <tr>\n",
              "      <th>39</th>\n",
              "      <td>38</td>\n",
              "      <td>2007-11-29</td>\n",
              "      <td>45.842002868652344</td>\n",
              "      <td>48.54616436475616</td>\n",
              "      <td>45.24644242593084</td>\n",
              "      <td>48.288626838031966</td>\n",
              "      <td>25530967</td>\n",
              "    </tr>\n",
              "    <tr>\n",
              "      <th>40</th>\n",
              "      <td>39</td>\n",
              "      <td>2007-11-30</td>\n",
              "      <td>47.612606048583984</td>\n",
              "      <td>47.90233698356052</td>\n",
              "      <td>46.03517818804345</td>\n",
              "      <td>46.679026650825456</td>\n",
              "      <td>18437721</td>\n",
              "    </tr>\n",
              "    <tr>\n",
              "      <th>41</th>\n",
              "      <td>40</td>\n",
              "      <td>2007-12-03</td>\n",
              "      <td>48.28863525390625</td>\n",
              "      <td>48.88419580042367</td>\n",
              "      <td>47.82184349319311</td>\n",
              "      <td>48.19205538977128</td>\n",
              "      <td>16851227</td>\n",
              "    </tr>\n",
              "    <tr>\n",
              "      <th>42</th>\n",
              "      <td>41</td>\n",
              "      <td>2007-12-04</td>\n",
              "      <td>47.66086959838867</td>\n",
              "      <td>49.012952429926166</td>\n",
              "      <td>47.306752250474126</td>\n",
              "      <td>48.610547345108415</td>\n",
              "      <td>14008727</td>\n",
              "    </tr>\n",
              "    <tr>\n",
              "      <th>43</th>\n",
              "      <td>42</td>\n",
              "      <td>2007-12-05</td>\n",
              "      <td>49.56023025512695</td>\n",
              "      <td>49.73729114631763</td>\n",
              "      <td>47.644784302908285</td>\n",
              "      <td>47.74135979528469</td>\n",
              "      <td>27725290</td>\n",
              "    </tr>\n",
              "    <tr>\n",
              "      <th>44</th>\n",
              "      <td>43</td>\n",
              "      <td>2007-12-06</td>\n",
              "      <td>48.64275360107422</td>\n",
              "      <td>51.39520336891929</td>\n",
              "      <td>48.01499975474952</td>\n",
              "      <td>50.638680734377566</td>\n",
              "      <td>24104710</td>\n",
              "    </tr>\n",
              "    <tr>\n",
              "      <th>45</th>\n",
              "      <td>44</td>\n",
              "      <td>2007-12-07</td>\n",
              "      <td>48.433502197265625</td>\n",
              "      <td>49.640717843276676</td>\n",
              "      <td>47.5643095519633</td>\n",
              "      <td>48.948581746172216</td>\n",
              "      <td>11742386</td>\n",
              "    </tr>\n",
              "    <tr>\n",
              "      <th>46</th>\n",
              "      <td>45</td>\n",
              "      <td>2007-12-10</td>\n",
              "      <td>48.481788635253906</td>\n",
              "      <td>49.077344791066345</td>\n",
              "      <td>47.85403482633609</td>\n",
              "      <td>48.90028826361544</td>\n",
              "      <td>8330010</td>\n",
              "    </tr>\n",
              "    <tr>\n",
              "      <th>47</th>\n",
              "      <td>46</td>\n",
              "      <td>2007-12-11</td>\n",
              "      <td>48.25644302368164</td>\n",
              "      <td>49.190022199197045</td>\n",
              "      <td>48.01499990761512</td>\n",
              "      <td>48.91638579437983</td>\n",
              "      <td>11685950</td>\n",
              "    </tr>\n",
              "    <tr>\n",
              "      <th>48</th>\n",
              "      <td>47</td>\n",
              "      <td>2007-12-12</td>\n",
              "      <td>48.22425079345703</td>\n",
              "      <td>48.65884928519141</td>\n",
              "      <td>47.322864886906835</td>\n",
              "      <td>47.64478904872846</td>\n",
              "      <td>16342131</td>\n",
              "    </tr>\n",
              "    <tr>\n",
              "      <th>49</th>\n",
              "      <td>48</td>\n",
              "      <td>2007-12-13</td>\n",
              "      <td>47.419437408447266</td>\n",
              "      <td>48.93248262045978</td>\n",
              "      <td>47.24238087712427</td>\n",
              "      <td>48.28863433728435</td>\n",
              "      <td>14620172</td>\n",
              "    </tr>\n",
              "    <tr>\n",
              "      <th>50</th>\n",
              "      <td>49</td>\n",
              "      <td>2007-12-14</td>\n",
              "      <td>46.95265197753906</td>\n",
              "      <td>47.69308022269544</td>\n",
              "      <td>46.71120883884428</td>\n",
              "      <td>47.2584816997696</td>\n",
              "      <td>10991851</td>\n",
              "    </tr>\n",
              "    <tr>\n",
              "      <th>51</th>\n",
              "      <td>50</td>\n",
              "      <td>2007-12-17</td>\n",
              "      <td>44.119712829589844</td>\n",
              "      <td>47.48382169350443</td>\n",
              "      <td>43.45976575133426</td>\n",
              "      <td>47.22627977282832</td>\n",
              "      <td>19355678</td>\n",
              "    </tr>\n",
              "    <tr>\n",
              "      <th>52</th>\n",
              "      <td>51</td>\n",
              "      <td>2007-12-18</td>\n",
              "      <td>43.92655944824219</td>\n",
              "      <td>45.39131254089077</td>\n",
              "      <td>42.55838185118833</td>\n",
              "      <td>43.62072976823285</td>\n",
              "      <td>21607783</td>\n",
              "    </tr>\n",
              "    <tr>\n",
              "      <th>53</th>\n",
              "      <td>52</td>\n",
              "      <td>2007-12-19</td>\n",
              "      <td>43.12174606323242</td>\n",
              "      <td>45.72933229096696</td>\n",
              "      <td>42.7515342009978</td>\n",
              "      <td>45.34302160301544</td>\n",
              "      <td>19526912</td>\n",
              "    </tr>\n",
              "    <tr>\n",
              "      <th>54</th>\n",
              "      <td>53</td>\n",
              "      <td>2007-12-20</td>\n",
              "      <td>42.68715286254883</td>\n",
              "      <td>44.03923606971298</td>\n",
              "      <td>42.493997494900256</td>\n",
              "      <td>43.68511862341991</td>\n",
              "      <td>17105204</td>\n",
              "    </tr>\n",
              "    <tr>\n",
              "      <th>55</th>\n",
              "      <td>54</td>\n",
              "      <td>2007-12-24</td>\n",
              "      <td>43.9909553527832</td>\n",
              "      <td>44.68309152833992</td>\n",
              "      <td>42.97689060209086</td>\n",
              "      <td>43.33100810500116</td>\n",
              "      <td>16711519</td>\n",
              "    </tr>\n",
              "    <tr>\n",
              "      <th>56</th>\n",
              "      <td>55</td>\n",
              "      <td>2007-12-26</td>\n",
              "      <td>45.326927185058594</td>\n",
              "      <td>45.87419993242705</td>\n",
              "      <td>44.232386056697</td>\n",
              "      <td>44.232386056697</td>\n",
              "      <td>20930094</td>\n",
              "    </tr>\n",
              "    <tr>\n",
              "      <th>57</th>\n",
              "      <td>56</td>\n",
              "      <td>2007-12-27</td>\n",
              "      <td>45.648860931396484</td>\n",
              "      <td>46.90436438363176</td>\n",
              "      <td>45.26255016161199</td>\n",
              "      <td>46.26051601157508</td>\n",
              "      <td>44565277</td>\n",
              "    </tr>\n",
              "    <tr>\n",
              "      <th>58</th>\n",
              "      <td>57</td>\n",
              "      <td>2007-12-28</td>\n",
              "      <td>46.00297546386719</td>\n",
              "      <td>46.19613083639226</td>\n",
              "      <td>45.06939189105865</td>\n",
              "      <td>45.552278139183365</td>\n",
              "      <td>18354518</td>\n",
              "    </tr>\n",
              "    <tr>\n",
              "      <th>59</th>\n",
              "      <td>58</td>\n",
              "      <td>2007-12-31</td>\n",
              "      <td>46.34098434448242</td>\n",
              "      <td>46.614620700809915</td>\n",
              "      <td>45.77761717349202</td>\n",
              "      <td>46.35708316919288</td>\n",
              "      <td>11982308</td>\n",
              "    </tr>\n",
              "    <tr>\n",
              "      <th>60</th>\n",
              "      <td>59</td>\n",
              "      <td>2008-01-01</td>\n",
              "      <td>47.194091796875</td>\n",
              "      <td>47.6286902892337</td>\n",
              "      <td>46.1478382694517</td>\n",
              "      <td>46.5824367618104</td>\n",
              "      <td>16687746</td>\n",
              "    </tr>\n",
              "    <tr>\n",
              "      <th>61</th>\n",
              "      <td>60</td>\n",
              "      <td>2008-01-02</td>\n",
              "      <td>46.936546325683594</td>\n",
              "      <td>47.548201257956606</td>\n",
              "      <td>46.244410366364775</td>\n",
              "      <td>47.19408386568007</td>\n",
              "      <td>13437280</td>\n",
              "    </tr>\n",
              "    <tr>\n",
              "      <th>62</th>\n",
              "      <td>61</td>\n",
              "      <td>2008-01-03</td>\n",
              "      <td>48.868080139160156</td>\n",
              "      <td>49.06123543451637</td>\n",
              "      <td>46.083438094095214</td>\n",
              "      <td>46.64680515849921</td>\n",
              "      <td>31815218</td>\n",
              "    </tr>\n",
              "    <tr>\n",
              "      <th>63</th>\n",
              "      <td>62</td>\n",
              "      <td>2008-01-04</td>\n",
              "      <td>48.61056137084961</td>\n",
              "      <td>50.22018217454902</td>\n",
              "      <td>48.288637210109734</td>\n",
              "      <td>49.57633385306926</td>\n",
              "      <td>28011310</td>\n",
              "    </tr>\n",
              "    <tr>\n",
              "      <th>64</th>\n",
              "      <td>63</td>\n",
              "      <td>2008-01-07</td>\n",
              "      <td>48.208160400390625</td>\n",
              "      <td>49.31879623258058</td>\n",
              "      <td>47.69308082473127</td>\n",
              "      <td>48.30473591053713</td>\n",
              "      <td>15858063</td>\n",
              "    </tr>\n",
              "    <tr>\n",
              "      <th>65</th>\n",
              "      <td>64</td>\n",
              "      <td>2008-01-08</td>\n",
              "      <td>46.56634521484375</td>\n",
              "      <td>48.932488829004434</td>\n",
              "      <td>46.00297789558532</td>\n",
              "      <td>48.256447172619076</td>\n",
              "      <td>13282666</td>\n",
              "    </tr>\n",
              "    <tr>\n",
              "      <th>66</th>\n",
              "      <td>65</td>\n",
              "      <td>2008-01-09</td>\n",
              "      <td>45.82590866088867</td>\n",
              "      <td>46.823874318639156</td>\n",
              "      <td>45.71323434420508</td>\n",
              "      <td>46.61462451129842</td>\n",
              "      <td>13113527</td>\n",
              "    </tr>\n",
              "    <tr>\n",
              "      <th>67</th>\n",
              "      <td>66</td>\n",
              "      <td>2008-01-10</td>\n",
              "      <td>44.731361389160156</td>\n",
              "      <td>47.32285285262935</td>\n",
              "      <td>44.42553176665222</td>\n",
              "      <td>46.035156532806084</td>\n",
              "      <td>18023003</td>\n",
              "    </tr>\n",
              "    <tr>\n",
              "      <th>68</th>\n",
              "      <td>67</td>\n",
              "      <td>2008-01-11</td>\n",
              "      <td>45.40741729736328</td>\n",
              "      <td>45.84201581704376</td>\n",
              "      <td>43.62073546453823</td>\n",
              "      <td>45.34303071430833</td>\n",
              "      <td>11629440</td>\n",
              "    </tr>\n",
              "    <tr>\n",
              "      <th>69</th>\n",
              "      <td>68</td>\n",
              "      <td>2008-01-14</td>\n",
              "      <td>46.099544525146484</td>\n",
              "      <td>46.58243070579431</td>\n",
              "      <td>44.76356029862923</td>\n",
              "      <td>45.487889569600966</td>\n",
              "      <td>10264240</td>\n",
              "    </tr>\n",
              "    <tr>\n",
              "      <th>70</th>\n",
              "      <td>69</td>\n",
              "      <td>2008-01-15</td>\n",
              "      <td>44.69917678833008</td>\n",
              "      <td>47.03312682125555</td>\n",
              "      <td>44.32896489776186</td>\n",
              "      <td>46.83997582887257</td>\n",
              "      <td>11558334</td>\n",
              "    </tr>\n",
              "    <tr>\n",
              "      <th>71</th>\n",
              "      <td>70</td>\n",
              "      <td>2008-01-16</td>\n",
              "      <td>43.78168869018555</td>\n",
              "      <td>44.74746104218779</td>\n",
              "      <td>42.67105310520814</td>\n",
              "      <td>44.37724918052865</td>\n",
              "      <td>14834065</td>\n",
              "    </tr>\n",
              "    <tr>\n",
              "      <th>72</th>\n",
              "      <td>71</td>\n",
              "      <td>2008-01-17</td>\n",
              "      <td>44.95672607421875</td>\n",
              "      <td>45.95469195236284</td>\n",
              "      <td>43.00908207392314</td>\n",
              "      <td>43.9426613664929</td>\n",
              "      <td>16169395</td>\n",
              "    </tr>\n",
              "    <tr>\n",
              "      <th>73</th>\n",
              "      <td>72</td>\n",
              "      <td>2008-01-18</td>\n",
              "      <td>42.86421203613281</td>\n",
              "      <td>44.63479482964799</td>\n",
              "      <td>42.49399577711548</td>\n",
              "      <td>44.58650271490614</td>\n",
              "      <td>13254156</td>\n",
              "    </tr>\n",
              "    <tr>\n",
              "      <th>74</th>\n",
              "      <td>73</td>\n",
              "      <td>2008-01-21</td>\n",
              "      <td>35.57262420654297</td>\n",
              "      <td>42.49399282814056</td>\n",
              "      <td>30.9852032857848</td>\n",
              "      <td>42.49399282814056</td>\n",
              "      <td>33202389</td>\n",
              "    </tr>\n",
              "    <tr>\n",
              "      <th>75</th>\n",
              "      <td>74</td>\n",
              "      <td>2008-01-22</td>\n",
              "      <td>31.999267578125</td>\n",
              "      <td>33.80204364681696</td>\n",
              "      <td>25.415917126882906</td>\n",
              "      <td>32.06365196989518</td>\n",
              "      <td>58755707</td>\n",
              "    </tr>\n",
              "    <tr>\n",
              "      <th>76</th>\n",
              "      <td>75</td>\n",
              "      <td>2008-01-23</td>\n",
              "      <td>35.57262420654297</td>\n",
              "      <td>36.94080172476575</td>\n",
              "      <td>32.51434504816264</td>\n",
              "      <td>32.51434504816264</td>\n",
              "      <td>28425991</td>\n",
              "    </tr>\n",
              "    <tr>\n",
              "      <th>77</th>\n",
              "      <td>76</td>\n",
              "      <td>2008-01-24</td>\n",
              "      <td>35.653114318847656</td>\n",
              "      <td>38.1802201930335</td>\n",
              "      <td>33.96301224817499</td>\n",
              "      <td>37.488084027842845</td>\n",
              "      <td>29911930</td>\n",
              "    </tr>\n",
              "    <tr>\n",
              "      <th>78</th>\n",
              "      <td>77</td>\n",
              "      <td>2008-01-25</td>\n",
              "      <td>37.48807144165039</td>\n",
              "      <td>37.66512794782081</td>\n",
              "      <td>35.97502644458045</td>\n",
              "      <td>37.3432038519655</td>\n",
              "      <td>12550722</td>\n",
              "    </tr>\n",
              "    <tr>\n",
              "      <th>79</th>\n",
              "      <td>78</td>\n",
              "      <td>2008-01-28</td>\n",
              "      <td>37.89047622680664</td>\n",
              "      <td>38.180207037242404</td>\n",
              "      <td>33.963000545510845</td>\n",
              "      <td>36.972991688447586</td>\n",
              "      <td>13601109</td>\n",
              "    </tr>\n",
              "    <tr>\n",
              "      <th>80</th>\n",
              "      <td>79</td>\n",
              "      <td>2008-01-29</td>\n",
              "      <td>37.26272964477539</td>\n",
              "      <td>38.53433180257836</td>\n",
              "      <td>36.699362373967254</td>\n",
              "      <td>37.98705899295728</td>\n",
              "      <td>7679877</td>\n",
              "    </tr>\n",
              "    <tr>\n",
              "      <th>81</th>\n",
              "      <td>80</td>\n",
              "      <td>2008-01-30</td>\n",
              "      <td>35.20241165161133</td>\n",
              "      <td>37.50416820518528</td>\n",
              "      <td>34.73561993737856</td>\n",
              "      <td>37.34320614736367</td>\n",
              "      <td>9016102</td>\n",
              "    </tr>\n",
              "    <tr>\n",
              "      <th>82</th>\n",
              "      <td>81</td>\n",
              "      <td>2008-01-31</td>\n",
              "      <td>32.90065383911133</td>\n",
              "      <td>35.66920218469349</td>\n",
              "      <td>32.51434532612463</td>\n",
              "      <td>35.57262451064989</td>\n",
              "      <td>41538563</td>\n",
              "    </tr>\n",
              "    <tr>\n",
              "      <th>83</th>\n",
              "      <td>82</td>\n",
              "      <td>2008-02-01</td>\n",
              "      <td>34.04348373413086</td>\n",
              "      <td>34.284926819247026</td>\n",
              "      <td>33.15819242203822</td>\n",
              "      <td>33.46401989321452</td>\n",
              "      <td>9089201</td>\n",
              "    </tr>\n",
              "    <tr>\n",
              "      <th>84</th>\n",
              "      <td>83</td>\n",
              "      <td>2008-02-04</td>\n",
              "      <td>35.79798126220703</td>\n",
              "      <td>36.21648318136195</td>\n",
              "      <td>34.68734314908736</td>\n",
              "      <td>34.68734314908736</td>\n",
              "      <td>12009385</td>\n",
              "    </tr>\n",
              "    <tr>\n",
              "      <th>85</th>\n",
              "      <td>84</td>\n",
              "      <td>2008-02-05</td>\n",
              "      <td>36.908607482910156</td>\n",
              "      <td>37.39149365329963</td>\n",
              "      <td>35.08973711438489</td>\n",
              "      <td>35.862354113732984</td>\n",
              "      <td>14593303</td>\n",
              "    </tr>\n",
              "    <tr>\n",
              "      <th>86</th>\n",
              "      <td>85</td>\n",
              "      <td>2008-02-06</td>\n",
              "      <td>36.586692810058594</td>\n",
              "      <td>37.021291348826914</td>\n",
              "      <td>34.54247547117089</td>\n",
              "      <td>35.89455666051161</td>\n",
              "      <td>12429218</td>\n",
              "    </tr>\n",
              "    <tr>\n",
              "      <th>87</th>\n",
              "      <td>86</td>\n",
              "      <td>2008-02-07</td>\n",
              "      <td>34.86440658569336</td>\n",
              "      <td>37.32712848872475</td>\n",
              "      <td>34.63906003995425</td>\n",
              "      <td>36.08771921237673</td>\n",
              "      <td>11300078</td>\n",
              "    </tr>\n",
              "    <tr>\n",
              "      <th>88</th>\n",
              "      <td>87</td>\n",
              "      <td>2008-02-08</td>\n",
              "      <td>33.96300506591797</td>\n",
              "      <td>35.37947039042423</td>\n",
              "      <td>33.33525125444192</td>\n",
              "      <td>35.08973954142588</td>\n",
              "      <td>13514197</td>\n",
              "    </tr>\n",
              "    <tr>\n",
              "      <th>89</th>\n",
              "      <td>88</td>\n",
              "      <td>2008-02-11</td>\n",
              "      <td>31.56467056274414</td>\n",
              "      <td>34.44589351286467</td>\n",
              "      <td>31.226649761441898</td>\n",
              "      <td>34.44589351286467</td>\n",
              "      <td>15133331</td>\n",
              "    </tr>\n",
              "    <tr>\n",
              "      <th>90</th>\n",
              "      <td>89</td>\n",
              "      <td>2008-02-12</td>\n",
              "      <td>31.001304626464844</td>\n",
              "      <td>32.723599813088</td>\n",
              "      <td>30.743764853251847</td>\n",
              "      <td>32.514349975395696</td>\n",
              "      <td>10237627</td>\n",
              "    </tr>\n",
              "    <tr>\n",
              "      <th>91</th>\n",
              "      <td>90</td>\n",
              "      <td>2008-02-13</td>\n",
              "      <td>30.550609588623047</td>\n",
              "      <td>31.950978326358264</td>\n",
              "      <td>29.92285793493569</td>\n",
              "      <td>31.548573140252536</td>\n",
              "      <td>10395753</td>\n",
              "    </tr>\n",
              "    <tr>\n",
              "      <th>92</th>\n",
              "      <td>91</td>\n",
              "      <td>2008-02-14</td>\n",
              "      <td>33.22258758544922</td>\n",
              "      <td>33.56060845090278</td>\n",
              "      <td>31.226655687795184</td>\n",
              "      <td>31.226655687795184</td>\n",
              "      <td>12514003</td>\n",
              "    </tr>\n",
              "    <tr>\n",
              "      <th>93</th>\n",
              "      <td>92</td>\n",
              "      <td>2008-02-15</td>\n",
              "      <td>34.17226028442383</td>\n",
              "      <td>34.445896716448054</td>\n",
              "      <td>32.208521871891165</td>\n",
              "      <td>33.09381338549082</td>\n",
              "      <td>12080990</td>\n",
              "    </tr>\n",
              "    <tr>\n",
              "      <th>94</th>\n",
              "      <td>93</td>\n",
              "      <td>2008-02-18</td>\n",
              "      <td>33.97909927368164</td>\n",
              "      <td>34.9448738572715</td>\n",
              "      <td>33.68936842683611</td>\n",
              "      <td>34.9448738572715</td>\n",
              "      <td>6977153</td>\n",
              "    </tr>\n",
              "    <tr>\n",
              "      <th>95</th>\n",
              "      <td>94</td>\n",
              "      <td>2008-02-19</td>\n",
              "      <td>33.608882904052734</td>\n",
              "      <td>34.67123283922573</td>\n",
              "      <td>33.35134319504299</td>\n",
              "      <td>34.590751816609405</td>\n",
              "      <td>7226542</td>\n",
              "    </tr>\n",
              "    <tr>\n",
              "      <th>96</th>\n",
              "      <td>95</td>\n",
              "      <td>2008-02-20</td>\n",
              "      <td>32.77188491821289</td>\n",
              "      <td>33.30306106690574</td>\n",
              "      <td>32.40167302506549</td>\n",
              "      <td>33.28696442303241</td>\n",
              "      <td>5604999</td>\n",
              "    </tr>\n",
              "    <tr>\n",
              "      <th>97</th>\n",
              "      <td>96</td>\n",
              "      <td>2008-02-21</td>\n",
              "      <td>32.997230529785156</td>\n",
              "      <td>33.560597731197944</td>\n",
              "      <td>32.59482538591888</td>\n",
              "      <td>33.303058002486</td>\n",
              "      <td>3874365</td>\n",
              "    </tr>\n",
              "    <tr>\n",
              "      <th>98</th>\n",
              "      <td>97</td>\n",
              "      <td>2008-02-22</td>\n",
              "      <td>32.5787353515625</td>\n",
              "      <td>32.78798519554064</td>\n",
              "      <td>31.564672873421785</td>\n",
              "      <td>31.902693699468692</td>\n",
              "      <td>2691220</td>\n",
              "    </tr>\n",
              "    <tr>\n",
              "      <th>99</th>\n",
              "      <td>98</td>\n",
              "      <td>2008-02-25</td>\n",
              "      <td>32.85235595703125</td>\n",
              "      <td>33.25476101546869</td>\n",
              "      <td>32.06364247913131</td>\n",
              "      <td>32.9650302466686</td>\n",
              "      <td>6270186</td>\n",
              "    </tr>\n",
              "  </tbody>\n",
              "</table>\n",
              "</div>"
            ],
            "text/plain": [
              "     Price        Date               Close                High  \\\n",
              "0   Ticker         NaN        POWERGRID.NS        POWERGRID.NS   \n",
              "1        0  2007-10-05   32.38557815551758  35.250704510369104   \n",
              "2        1  2007-10-08    30.7276668548584   33.48011863436938   \n",
              "3        2  2007-10-09   32.82017517089844   33.10990603070133   \n",
              "4        3  2007-10-10   33.12601089477539   33.80205264632212   \n",
              "5        4  2007-10-11    36.8281364440918   38.63091284248805   \n",
              "6        5  2007-10-12  36.586692810058594   37.95487064587003   \n",
              "7        6  2007-10-15  37.069576263427734  37.568561349828464   \n",
              "8        7  2007-10-16    40.8521842956543   41.49603699041757   \n",
              "9        8  2007-10-17   44.03922653198242   45.06938099237755   \n",
              "10       9  2007-10-18   42.49400329589844   48.11158235401636   \n",
              "11      10  2007-10-19  42.349124908447266   44.07141964355362   \n",
              "12      11  2007-10-22    41.7857666015625  43.089557680577606   \n",
              "13      12  2007-10-23   44.76356887817383    45.1659741058401   \n",
              "14      13  2007-10-24   44.07143020629883   46.19613055854366   \n",
              "15      14  2007-10-25    43.9748420715332    45.0050009475827   \n",
              "16      15  2007-10-26   45.29472351074219  46.019052610392144   \n",
              "17      16  2007-10-29   46.21222686767578  47.322867022635045   \n",
              "18      17  2007-10-30   47.24237823486328   48.51397590318908   \n",
              "19      18  2007-10-31   48.22425079345703   49.28660314729394   \n",
              "20      19  2007-11-01  47.145809173583984   49.78558933797749   \n",
              "21      20  2007-11-02   47.99892044067383  48.288655789920604   \n",
              "22      21  2007-11-05   48.98077392578125   50.05922075170029   \n",
              "23      22  2007-11-06  49.624610900878906   52.76337079112563   \n",
              "24      23  2007-11-07  48.900291442871094   51.25033603130588   \n",
              "25      24  2007-11-08   48.06329345703125   49.36708906093631   \n",
              "26      25  2007-11-12   49.22221755981445   50.09141456079059   \n",
              "27      26  2007-11-13   50.39723587036133   51.41129604615054   \n",
              "28      27  2007-11-14  49.737308502197266  51.990778196834576   \n",
              "29      28  2007-11-15   50.57429504394531   51.45958640579601   \n",
              "30      29  2007-11-16  50.220191955566406   51.36302120222308   \n",
              "31      30  2007-11-19    52.0390510559082  53.922308206052065   \n",
              "32      31  2007-11-20  51.234249114990234  53.278468676584815   \n",
              "33      32  2007-11-21   47.24237823486328    51.8458914555434   \n",
              "34      33  2007-11-22  45.616661071777344   48.64275147785787   \n",
              "35      34  2007-11-23   48.64275360107422   48.93248446615647   \n",
              "36      35  2007-11-26   49.02906036376953  50.445525778408005   \n",
              "37      36  2007-11-27   47.82185363769531  49.866073282498654   \n",
              "38      37  2007-11-28  47.113616943359375    49.0934542945035   \n",
              "39      38  2007-11-29  45.842002868652344   48.54616436475616   \n",
              "40      39  2007-11-30  47.612606048583984   47.90233698356052   \n",
              "41      40  2007-12-03   48.28863525390625   48.88419580042367   \n",
              "42      41  2007-12-04   47.66086959838867  49.012952429926166   \n",
              "43      42  2007-12-05   49.56023025512695   49.73729114631763   \n",
              "44      43  2007-12-06   48.64275360107422   51.39520336891929   \n",
              "45      44  2007-12-07  48.433502197265625  49.640717843276676   \n",
              "46      45  2007-12-10  48.481788635253906  49.077344791066345   \n",
              "47      46  2007-12-11   48.25644302368164  49.190022199197045   \n",
              "48      47  2007-12-12   48.22425079345703   48.65884928519141   \n",
              "49      48  2007-12-13  47.419437408447266   48.93248262045978   \n",
              "50      49  2007-12-14   46.95265197753906   47.69308022269544   \n",
              "51      50  2007-12-17  44.119712829589844   47.48382169350443   \n",
              "52      51  2007-12-18   43.92655944824219   45.39131254089077   \n",
              "53      52  2007-12-19   43.12174606323242   45.72933229096696   \n",
              "54      53  2007-12-20   42.68715286254883   44.03923606971298   \n",
              "55      54  2007-12-24    43.9909553527832   44.68309152833992   \n",
              "56      55  2007-12-26  45.326927185058594   45.87419993242705   \n",
              "57      56  2007-12-27  45.648860931396484   46.90436438363176   \n",
              "58      57  2007-12-28   46.00297546386719   46.19613083639226   \n",
              "59      58  2007-12-31   46.34098434448242  46.614620700809915   \n",
              "60      59  2008-01-01     47.194091796875    47.6286902892337   \n",
              "61      60  2008-01-02  46.936546325683594  47.548201257956606   \n",
              "62      61  2008-01-03  48.868080139160156   49.06123543451637   \n",
              "63      62  2008-01-04   48.61056137084961   50.22018217454902   \n",
              "64      63  2008-01-07  48.208160400390625   49.31879623258058   \n",
              "65      64  2008-01-08   46.56634521484375  48.932488829004434   \n",
              "66      65  2008-01-09   45.82590866088867  46.823874318639156   \n",
              "67      66  2008-01-10  44.731361389160156   47.32285285262935   \n",
              "68      67  2008-01-11   45.40741729736328   45.84201581704376   \n",
              "69      68  2008-01-14  46.099544525146484   46.58243070579431   \n",
              "70      69  2008-01-15   44.69917678833008   47.03312682125555   \n",
              "71      70  2008-01-16   43.78168869018555   44.74746104218779   \n",
              "72      71  2008-01-17   44.95672607421875   45.95469195236284   \n",
              "73      72  2008-01-18   42.86421203613281   44.63479482964799   \n",
              "74      73  2008-01-21   35.57262420654297   42.49399282814056   \n",
              "75      74  2008-01-22     31.999267578125   33.80204364681696   \n",
              "76      75  2008-01-23   35.57262420654297   36.94080172476575   \n",
              "77      76  2008-01-24  35.653114318847656    38.1802201930335   \n",
              "78      77  2008-01-25   37.48807144165039   37.66512794782081   \n",
              "79      78  2008-01-28   37.89047622680664  38.180207037242404   \n",
              "80      79  2008-01-29   37.26272964477539   38.53433180257836   \n",
              "81      80  2008-01-30   35.20241165161133   37.50416820518528   \n",
              "82      81  2008-01-31   32.90065383911133   35.66920218469349   \n",
              "83      82  2008-02-01   34.04348373413086  34.284926819247026   \n",
              "84      83  2008-02-04   35.79798126220703   36.21648318136195   \n",
              "85      84  2008-02-05  36.908607482910156   37.39149365329963   \n",
              "86      85  2008-02-06  36.586692810058594  37.021291348826914   \n",
              "87      86  2008-02-07   34.86440658569336   37.32712848872475   \n",
              "88      87  2008-02-08   33.96300506591797   35.37947039042423   \n",
              "89      88  2008-02-11   31.56467056274414   34.44589351286467   \n",
              "90      89  2008-02-12  31.001304626464844     32.723599813088   \n",
              "91      90  2008-02-13  30.550609588623047  31.950978326358264   \n",
              "92      91  2008-02-14   33.22258758544922   33.56060845090278   \n",
              "93      92  2008-02-15   34.17226028442383  34.445896716448054   \n",
              "94      93  2008-02-18   33.97909927368164    34.9448738572715   \n",
              "95      94  2008-02-19  33.608882904052734   34.67123283922573   \n",
              "96      95  2008-02-20   32.77188491821289   33.30306106690574   \n",
              "97      96  2008-02-21  32.997230529785156  33.560597731197944   \n",
              "98      97  2008-02-22    32.5787353515625   32.78798519554064   \n",
              "99      98  2008-02-25   32.85235595703125   33.25476101546869   \n",
              "\n",
              "                   Low                Open        Volume  \n",
              "0         POWERGRID.NS        POWERGRID.NS  POWERGRID.NS  \n",
              "1   26.767999775913133  28.908796765471156     855215656  \n",
              "2    30.53451150138165   33.48011863436938     126671715  \n",
              "3   29.085854182395227  30.743762670622203     116725709  \n",
              "4     32.8362799630773   33.67328164530978      67931378  \n",
              "5   32.836277226027775   38.63091284248805     106320954  \n",
              "6   35.733594562180855   36.05551875884237      99410791  \n",
              "7     36.7476520914438  37.343212682889295      41814972  \n",
              "8    36.86032553292788  37.117863117732455     138614496  \n",
              "9    34.15615311388379  36.699354715589536     204876259  \n",
              "10    40.6751324321906    44.7474727045501     146617799  \n",
              "11  40.240519523202614   41.52821586849711     110266491  \n",
              "12   40.40149011755646   41.49603573582313      72253405  \n",
              "13   42.81592495644339   42.81592495644339      74594921  \n",
              "14   43.57244513307889   45.71323994694737      63055170  \n",
              "15   38.84015088263432  42.574471350344865      34522489  \n",
              "16   43.54023572281813   44.74745088890139      62370025  \n",
              "17    45.8098216472378    46.0351703172335      43657697  \n",
              "18   45.45569672915499  46.839973080385114      79921711  \n",
              "19  47.322864886906835   47.48382696781765      44655368  \n",
              "20    46.7595027566523  49.415377384360156      50632492  \n",
              "21   45.06940857749052   45.43962499788861      32001693  \n",
              "22   47.67697843783403   47.96671367940626      38833135  \n",
              "23   48.94856943585847    49.8338606869537      81880281  \n",
              "24   47.80575018752306  50.542105509081054      33593141  \n",
              "25   47.00094536470238  47.644793751902014      27990521  \n",
              "26   45.34302871190359   46.61463092326202      35153735  \n",
              "27   48.46569101500069   50.05921726722347      43830531  \n",
              "28   49.47976648869824   51.28254311768349      36738579  \n",
              "29     49.624617109228  50.670870536869735      29242252  \n",
              "30  49.640725733550724   50.34896077166654      18895294  \n",
              "31    50.9767031078146   51.36300946785967      40716718  \n",
              "32   50.60649517281405   51.82980976360265      26342171  \n",
              "33  46.099544976320054  51.540066157965214      26814499  \n",
              "34   43.63682848602828   46.74339556065289      34096185  \n",
              "35   45.90639392798957   48.61056031242602      27664090  \n",
              "36   48.64275399598222  50.445525778408005      20159123  \n",
              "37   47.32287284946353  49.866073282498654      20573198  \n",
              "38   46.79169273879954  48.868105604761034      16435311  \n",
              "39   45.24644242593084  48.288626838031966      25530967  \n",
              "40   46.03517818804345  46.679026650825456      18437721  \n",
              "41   47.82184349319311   48.19205538977128      16851227  \n",
              "42  47.306752250474126  48.610547345108415      14008727  \n",
              "43  47.644784302908285   47.74135979528469      27725290  \n",
              "44   48.01499975474952  50.638680734377566      24104710  \n",
              "45    47.5643095519633  48.948581746172216      11742386  \n",
              "46   47.85403482633609   48.90028826361544       8330010  \n",
              "47   48.01499990761512   48.91638579437983      11685950  \n",
              "48  47.322864886906835   47.64478904872846      16342131  \n",
              "49   47.24238087712427   48.28863433728435      14620172  \n",
              "50   46.71120883884428    47.2584816997696      10991851  \n",
              "51   43.45976575133426   47.22627977282832      19355678  \n",
              "52   42.55838185118833   43.62072976823285      21607783  \n",
              "53    42.7515342009978   45.34302160301544      19526912  \n",
              "54  42.493997494900256   43.68511862341991      17105204  \n",
              "55   42.97689060209086   43.33100810500116      16711519  \n",
              "56     44.232386056697     44.232386056697      20930094  \n",
              "57   45.26255016161199   46.26051601157508      44565277  \n",
              "58   45.06939189105865  45.552278139183365      18354518  \n",
              "59   45.77761717349202   46.35708316919288      11982308  \n",
              "60    46.1478382694517    46.5824367618104      16687746  \n",
              "61  46.244410366364775   47.19408386568007      13437280  \n",
              "62  46.083438094095214   46.64680515849921      31815218  \n",
              "63  48.288637210109734   49.57633385306926      28011310  \n",
              "64   47.69308082473127   48.30473591053713      15858063  \n",
              "65   46.00297789558532  48.256447172619076      13282666  \n",
              "66   45.71323434420508   46.61462451129842      13113527  \n",
              "67   44.42553176665222  46.035156532806084      18023003  \n",
              "68   43.62073546453823   45.34303071430833      11629440  \n",
              "69   44.76356029862923  45.487889569600966      10264240  \n",
              "70   44.32896489776186   46.83997582887257      11558334  \n",
              "71   42.67105310520814   44.37724918052865      14834065  \n",
              "72   43.00908207392314    43.9426613664929      16169395  \n",
              "73   42.49399577711548   44.58650271490614      13254156  \n",
              "74    30.9852032857848   42.49399282814056      33202389  \n",
              "75  25.415917126882906   32.06365196989518      58755707  \n",
              "76   32.51434504816264   32.51434504816264      28425991  \n",
              "77   33.96301224817499  37.488084027842845      29911930  \n",
              "78   35.97502644458045    37.3432038519655      12550722  \n",
              "79  33.963000545510845  36.972991688447586      13601109  \n",
              "80  36.699362373967254   37.98705899295728       7679877  \n",
              "81   34.73561993737856   37.34320614736367       9016102  \n",
              "82   32.51434532612463   35.57262451064989      41538563  \n",
              "83   33.15819242203822   33.46401989321452       9089201  \n",
              "84   34.68734314908736   34.68734314908736      12009385  \n",
              "85   35.08973711438489  35.862354113732984      14593303  \n",
              "86   34.54247547117089   35.89455666051161      12429218  \n",
              "87   34.63906003995425   36.08771921237673      11300078  \n",
              "88   33.33525125444192   35.08973954142588      13514197  \n",
              "89  31.226649761441898   34.44589351286467      15133331  \n",
              "90  30.743764853251847  32.514349975395696      10237627  \n",
              "91   29.92285793493569  31.548573140252536      10395753  \n",
              "92  31.226655687795184  31.226655687795184      12514003  \n",
              "93  32.208521871891165   33.09381338549082      12080990  \n",
              "94   33.68936842683611    34.9448738572715       6977153  \n",
              "95   33.35134319504299  34.590751816609405       7226542  \n",
              "96   32.40167302506549   33.28696442303241       5604999  \n",
              "97   32.59482538591888     33.303058002486       3874365  \n",
              "98  31.564672873421785  31.902693699468692       2691220  \n",
              "99   32.06364247913131    32.9650302466686       6270186  "
            ]
          },
          "execution_count": 21,
          "metadata": {},
          "output_type": "execute_result"
        }
      ],
      "source": [
        "# To view the full DataFrame without truncation in Jupyter, adjust pandas display options:\n",
        "pd.set_option('display.max_rows', 100)\n",
        "pd.set_option('display.max_columns', None)\n",
        "pd.set_option('display.width', None)\n",
        "pd.set_option('display.max_colwidth', None)\n",
        "\n",
        "# Display the first 100 rows as an example\n",
        "data01.head(100)"
      ]
    },
    {
      "cell_type": "code",
      "execution_count": null,
      "id": "cdd1fd06",
      "metadata": {},
      "outputs": [
        {
          "ename": "SyntaxError",
          "evalue": "invalid syntax (1097781630.py, line 1)",
          "output_type": "error",
          "traceback": [
            "  \u001b[36mCell\u001b[39m\u001b[36m \u001b[39m\u001b[32mIn[22]\u001b[39m\u001b[32m, line 1\u001b[39m\n\u001b[31m    \u001b[39m\u001b[31mpip install plotly==5.3.1\u001b[39m\n        ^\n\u001b[31mSyntaxError\u001b[39m\u001b[31m:\u001b[39m invalid syntax\n"
          ]
        }
      ],
      "source": [
        "pip install plotly==5.3.1 # type: ignore\n",
        "import plotly.express as px\n"
      ]
    },
    {
      "cell_type": "code",
      "execution_count": 23,
      "id": "2689ea49",
      "metadata": {
        "colab": {
          "base_uri": "https://localhost:8080/"
        },
        "id": "2689ea49",
        "outputId": "f01aa6b1-24b2-4572-a0f7-50b053182cfb"
      },
      "outputs": [
        {
          "name": "stderr",
          "output_type": "stream",
          "text": [
            "C:\\Users\\Abhishek patel\\AppData\\Local\\Temp\\ipykernel_28208\\459627403.py:7: PerformanceWarning:\n",
            "\n",
            "dropping on a non-lexsorted multi-index without a level parameter may impact performance.\n",
            "\n"
          ]
        }
      ],
      "source": [
        "# Drop the 'Adj Close' column if it exists\n",
        "if 'Adj Close' in df.columns:\n",
        "    df = df.drop('Adj Close', axis=1)\n",
        "\n",
        "# Drop the 'Date' column if it exists\n",
        "if 'Date' in df.columns:\n",
        "    df = df.drop('Date', axis=1)"
      ]
    },
    {
      "cell_type": "code",
      "execution_count": 24,
      "id": "1f7c26fa",
      "metadata": {
        "colab": {
          "base_uri": "https://localhost:8080/",
          "height": 237
        },
        "id": "1f7c26fa",
        "outputId": "cb98c8cd-47ba-4a06-8c8d-9ec784810b1e"
      },
      "outputs": [
        {
          "data": {
            "text/html": [
              "<div>\n",
              "<style scoped>\n",
              "    .dataframe tbody tr th:only-of-type {\n",
              "        vertical-align: middle;\n",
              "    }\n",
              "\n",
              "    .dataframe tbody tr th {\n",
              "        vertical-align: top;\n",
              "    }\n",
              "\n",
              "    .dataframe thead tr th {\n",
              "        text-align: left;\n",
              "    }\n",
              "</style>\n",
              "<table border=\"1\" class=\"dataframe\">\n",
              "  <thead>\n",
              "    <tr>\n",
              "      <th>Price</th>\n",
              "      <th>Close</th>\n",
              "      <th>High</th>\n",
              "      <th>Low</th>\n",
              "      <th>Open</th>\n",
              "      <th>Volume</th>\n",
              "    </tr>\n",
              "    <tr>\n",
              "      <th>Ticker</th>\n",
              "      <th>POWERGRID.NS</th>\n",
              "      <th>POWERGRID.NS</th>\n",
              "      <th>POWERGRID.NS</th>\n",
              "      <th>POWERGRID.NS</th>\n",
              "      <th>POWERGRID.NS</th>\n",
              "    </tr>\n",
              "  </thead>\n",
              "  <tbody>\n",
              "    <tr>\n",
              "      <th>0</th>\n",
              "      <td>32.385578</td>\n",
              "      <td>35.250705</td>\n",
              "      <td>26.768000</td>\n",
              "      <td>28.908797</td>\n",
              "      <td>855215656</td>\n",
              "    </tr>\n",
              "    <tr>\n",
              "      <th>1</th>\n",
              "      <td>30.727667</td>\n",
              "      <td>33.480119</td>\n",
              "      <td>30.534512</td>\n",
              "      <td>33.480119</td>\n",
              "      <td>126671715</td>\n",
              "    </tr>\n",
              "    <tr>\n",
              "      <th>2</th>\n",
              "      <td>32.820175</td>\n",
              "      <td>33.109906</td>\n",
              "      <td>29.085854</td>\n",
              "      <td>30.743763</td>\n",
              "      <td>116725709</td>\n",
              "    </tr>\n",
              "    <tr>\n",
              "      <th>3</th>\n",
              "      <td>33.126011</td>\n",
              "      <td>33.802053</td>\n",
              "      <td>32.836280</td>\n",
              "      <td>33.673282</td>\n",
              "      <td>67931378</td>\n",
              "    </tr>\n",
              "    <tr>\n",
              "      <th>4</th>\n",
              "      <td>36.828136</td>\n",
              "      <td>38.630913</td>\n",
              "      <td>32.836277</td>\n",
              "      <td>38.630913</td>\n",
              "      <td>106320954</td>\n",
              "    </tr>\n",
              "  </tbody>\n",
              "</table>\n",
              "</div>"
            ],
            "text/plain": [
              "Price         Close         High          Low         Open       Volume\n",
              "Ticker POWERGRID.NS POWERGRID.NS POWERGRID.NS POWERGRID.NS POWERGRID.NS\n",
              "0         32.385578    35.250705    26.768000    28.908797    855215656\n",
              "1         30.727667    33.480119    30.534512    33.480119    126671715\n",
              "2         32.820175    33.109906    29.085854    30.743763    116725709\n",
              "3         33.126011    33.802053    32.836280    33.673282     67931378\n",
              "4         36.828136    38.630913    32.836277    38.630913    106320954"
            ]
          },
          "execution_count": 24,
          "metadata": {},
          "output_type": "execute_result"
        }
      ],
      "source": [
        "df.head()"
      ]
    },
    {
      "cell_type": "code",
      "execution_count": 25,
      "id": "666ecd7c",
      "metadata": {
        "colab": {
          "base_uri": "https://localhost:8080/",
          "height": 452
        },
        "id": "666ecd7c",
        "outputId": "a060d578-1df6-46d6-d702-bd2a6408ec32"
      },
      "outputs": [
        {
          "data": {
            "image/png": "[encoded data removed]",
            "text/plain": [
              "<Figure size 1200x600 with 1 Axes>"
            ]
          },
          "metadata": {},
          "output_type": "display_data"
        }
      ],
      "source": [
        "plt.figure(figsize=(12, 6))\n",
        "plt.plot(df['Close'], label = f'{stock} Closing Price', linewidth = 1)\n",
        "plt.title(f'{stock} Closing prices over time')\n",
        "plt.legend()\n",
        "plt.show()"
      ]
    },
    {
      "cell_type": "code",
      "execution_count": 26,
      "id": "23c825af",
      "metadata": {
        "colab": {
          "base_uri": "https://localhost:8080/",
          "height": 452
        },
        "id": "23c825af",
        "outputId": "b32d0f9d-8754-4e59-deac-a1bb6dc89eed"
      },
      "outputs": [
        {
          "data": {
            "image/png": "[encoded data removed]",
            "text/plain": [
              "<Figure size 1200x600 with 1 Axes>"
            ]
          },
          "metadata": {},
          "output_type": "display_data"
        }
      ],
      "source": [
        "plt.figure(figsize=(12, 6))\n",
        "plt.plot(df['Open'], label = f'{stock} Opening Price', linewidth = 1)\n",
        "plt.title(f'{stock} Opening prices over time')\n",
        "plt.legend()\n",
        "plt.show()"
      ]
    },
    {
      "cell_type": "code",
      "execution_count": 27,
      "id": "eac601c4",
      "metadata": {
        "colab": {
          "base_uri": "https://localhost:8080/",
          "height": 452
        },
        "id": "eac601c4",
        "outputId": "140d8d1d-ddda-41a0-bddd-8f67137ef176"
      },
      "outputs": [
        {
          "data": {
            "image/png": "[encoded data removed]",
            "text/plain": [
              "<Figure size 1200x600 with 1 Axes>"
            ]
          },
          "metadata": {},
          "output_type": "display_data"
        }
      ],
      "source": [
        "plt.figure(figsize=(12, 6))\n",
        "plt.plot(df['High'], label = f'{stock} High Price', linewidth = 1)\n",
        "plt.title(f'{stock} High prices over time')\n",
        "plt.legend()\n",
        "plt.show()"
      ]
    },
    {
      "cell_type": "code",
      "execution_count": 28,
      "id": "02062d92",
      "metadata": {
        "colab": {
          "base_uri": "https://localhost:8080/",
          "height": 462
        },
        "id": "02062d92",
        "outputId": "8160af72-f9d5-434d-92c2-0d4f369da813"
      },
      "outputs": [
        {
          "data": {
            "image/png": "[encoded data removed]",
            "text/plain": [
              "<Figure size 1200x600 with 1 Axes>"
            ]
          },
          "metadata": {},
          "output_type": "display_data"
        }
      ],
      "source": [
        "plt.figure(figsize=(12, 6))\n",
        "plt.plot(df['Volume'], label = f'{stock} Volume', linewidth = 2)\n",
        "plt.title(f'{stock} Volume over time')\n",
        "plt.legend()\n",
        "plt.show()"
      ]
    },
    {
      "cell_type": "code",
      "execution_count": 29,
      "id": "2eef03a2",
      "metadata": {
        "colab": {
          "base_uri": "https://localhost:8080/"
        },
        "id": "2eef03a2",
        "outputId": "5e1fa1ed-6e35-458f-a965-f4fafd3d89d6"
      },
      "outputs": [
        {
          "name": "stdout",
          "output_type": "stream",
          "text": [
            "50.0\n"
          ]
        }
      ],
      "source": [
        "# Moving Average\n",
        "# [10, 20, 30, 40, 50, 60, 70, 80, 90]\n",
        "# moving average for last 5 days -> null null null null 30.0 40.0 50.0\n",
        "\n",
        "temp_data = [10, 20, 30, 40, 50, 60, 70, 80, 90]\n",
        "print(sum(temp_data[2:7])/5)"
      ]
    },
    {
      "cell_type": "code",
      "execution_count": 30,
      "id": "25ac54fa",
      "metadata": {
        "id": "25ac54fa"
      },
      "outputs": [],
      "source": [
        "import pandas as pd\n",
        "df01 = pd.DataFrame(temp_data)"
      ]
    },
    {
      "cell_type": "code",
      "execution_count": 31,
      "id": "029894b7",
      "metadata": {
        "colab": {
          "base_uri": "https://localhost:8080/",
          "height": 331
        },
        "id": "029894b7",
        "outputId": "8caf611f-daaf-44df-bc93-8e8e19c87420"
      },
      "outputs": [
        {
          "data": {
            "text/html": [
              "<div>\n",
              "<style scoped>\n",
              "    .dataframe tbody tr th:only-of-type {\n",
              "        vertical-align: middle;\n",
              "    }\n",
              "\n",
              "    .dataframe tbody tr th {\n",
              "        vertical-align: top;\n",
              "    }\n",
              "\n",
              "    .dataframe thead th {\n",
              "        text-align: right;\n",
              "    }\n",
              "</style>\n",
              "<table border=\"1\" class=\"dataframe\">\n",
              "  <thead>\n",
              "    <tr style=\"text-align: right;\">\n",
              "      <th></th>\n",
              "      <th>0</th>\n",
              "    </tr>\n",
              "  </thead>\n",
              "  <tbody>\n",
              "    <tr>\n",
              "      <th>0</th>\n",
              "      <td>NaN</td>\n",
              "    </tr>\n",
              "    <tr>\n",
              "      <th>1</th>\n",
              "      <td>NaN</td>\n",
              "    </tr>\n",
              "    <tr>\n",
              "      <th>2</th>\n",
              "      <td>NaN</td>\n",
              "    </tr>\n",
              "    <tr>\n",
              "      <th>3</th>\n",
              "      <td>NaN</td>\n",
              "    </tr>\n",
              "    <tr>\n",
              "      <th>4</th>\n",
              "      <td>30.0</td>\n",
              "    </tr>\n",
              "    <tr>\n",
              "      <th>5</th>\n",
              "      <td>40.0</td>\n",
              "    </tr>\n",
              "    <tr>\n",
              "      <th>6</th>\n",
              "      <td>50.0</td>\n",
              "    </tr>\n",
              "    <tr>\n",
              "      <th>7</th>\n",
              "      <td>60.0</td>\n",
              "    </tr>\n",
              "    <tr>\n",
              "      <th>8</th>\n",
              "      <td>70.0</td>\n",
              "    </tr>\n",
              "  </tbody>\n",
              "</table>\n",
              "</div>"
            ],
            "text/plain": [
              "      0\n",
              "0   NaN\n",
              "1   NaN\n",
              "2   NaN\n",
              "3   NaN\n",
              "4  30.0\n",
              "5  40.0\n",
              "6  50.0\n",
              "7  60.0\n",
              "8  70.0"
            ]
          },
          "execution_count": 31,
          "metadata": {},
          "output_type": "execute_result"
        }
      ],
      "source": [
        "df01.rolling(5).mean()"
      ]
    },
    {
      "cell_type": "code",
      "execution_count": null,
      "id": "02cc5af8",
      "metadata": {
        "id": "02cc5af8"
      },
      "outputs": [],
      "source": []
    },
    {
      "cell_type": "code",
      "execution_count": 32,
      "id": "93c0f439",
      "metadata": {
        "id": "93c0f439"
      },
      "outputs": [],
      "source": [
        "ma100 = df.Close.rolling(100).mean()"
      ]
    },
    {
      "cell_type": "code",
      "execution_count": 33,
      "id": "a907ef79",
      "metadata": {
        "colab": {
          "base_uri": "https://localhost:8080/",
          "height": 423
        },
        "id": "a907ef79",
        "outputId": "90da88dd-4993-4f77-c7c3-c296108678a2"
      },
      "outputs": [
        {
          "data": {
            "text/html": [
              "<div>\n",
              "<style scoped>\n",
              "    .dataframe tbody tr th:only-of-type {\n",
              "        vertical-align: middle;\n",
              "    }\n",
              "\n",
              "    .dataframe tbody tr th {\n",
              "        vertical-align: top;\n",
              "    }\n",
              "\n",
              "    .dataframe thead th {\n",
              "        text-align: right;\n",
              "    }\n",
              "</style>\n",
              "<table border=\"1\" class=\"dataframe\">\n",
              "  <thead>\n",
              "    <tr style=\"text-align: right;\">\n",
              "      <th>Ticker</th>\n",
              "      <th>POWERGRID.NS</th>\n",
              "    </tr>\n",
              "  </thead>\n",
              "  <tbody>\n",
              "    <tr>\n",
              "      <th>0</th>\n",
              "      <td>NaN</td>\n",
              "    </tr>\n",
              "    <tr>\n",
              "      <th>1</th>\n",
              "      <td>NaN</td>\n",
              "    </tr>\n",
              "    <tr>\n",
              "      <th>2</th>\n",
              "      <td>NaN</td>\n",
              "    </tr>\n",
              "    <tr>\n",
              "      <th>3</th>\n",
              "      <td>NaN</td>\n",
              "    </tr>\n",
              "    <tr>\n",
              "      <th>4</th>\n",
              "      <td>NaN</td>\n",
              "    </tr>\n",
              "    <tr>\n",
              "      <th>...</th>\n",
              "      <td>...</td>\n",
              "    </tr>\n",
              "    <tr>\n",
              "      <th>4203</th>\n",
              "      <td>324.993563</td>\n",
              "    </tr>\n",
              "    <tr>\n",
              "      <th>4204</th>\n",
              "      <td>325.235133</td>\n",
              "    </tr>\n",
              "    <tr>\n",
              "      <th>4205</th>\n",
              "      <td>325.471086</td>\n",
              "    </tr>\n",
              "    <tr>\n",
              "      <th>4206</th>\n",
              "      <td>325.670630</td>\n",
              "    </tr>\n",
              "    <tr>\n",
              "      <th>4207</th>\n",
              "      <td>325.807061</td>\n",
              "    </tr>\n",
              "  </tbody>\n",
              "</table>\n",
              "<p>4208 rows × 1 columns</p>\n",
              "</div>"
            ],
            "text/plain": [
              "Ticker  POWERGRID.NS\n",
              "0                NaN\n",
              "1                NaN\n",
              "2                NaN\n",
              "3                NaN\n",
              "4                NaN\n",
              "...              ...\n",
              "4203      324.993563\n",
              "4204      325.235133\n",
              "4205      325.471086\n",
              "4206      325.670630\n",
              "4207      325.807061\n",
              "\n",
              "[4208 rows x 1 columns]"
            ]
          },
          "execution_count": 33,
          "metadata": {},
          "output_type": "execute_result"
        }
      ],
      "source": [
        "ma100"
      ]
    },
    {
      "cell_type": "code",
      "execution_count": 34,
      "id": "ca7a4503",
      "metadata": {
        "id": "ca7a4503"
      },
      "outputs": [],
      "source": [
        "ma200 = df.Close.rolling(200).mean()"
      ]
    },
    {
      "cell_type": "code",
      "execution_count": 35,
      "id": "fc9bfa71",
      "metadata": {
        "colab": {
          "base_uri": "https://localhost:8080/",
          "height": 428
        },
        "id": "fc9bfa71",
        "outputId": "ec8750d0-3a37-45a9-bb91-29178b0d8356"
      },
      "outputs": [
        {
          "data": {
            "image/png": "[encoded data removed]",
            "text/plain": [
              "<Figure size 1200x600 with 1 Axes>"
            ]
          },
          "metadata": {},
          "output_type": "display_data"
        }
      ],
      "source": [
        "# Calculate the 100-day moving average if not already defined\n",
        "if 'ma100' not in globals():\n",
        "\tma100 = df['Close'].rolling(100).mean()\n",
        "\n",
        "plt.figure(figsize=(12, 6))\n",
        "plt.plot(df.Close, label = f'{stock} Close Price', linewidth = 1)\n",
        "plt.plot(ma100, label = f'{stock} Moving Average 100 Price', linewidth = 1)\n",
        "plt.plot(ma200, label = f'{stock} Moving Average 200 Price', linewidth = 1)\n",
        "plt.legend()\n",
        "plt.show()"
      ]
    },
    {
      "cell_type": "code",
      "execution_count": 36,
      "id": "7bdc5b5d",
      "metadata": {
        "id": "7bdc5b5d"
      },
      "outputs": [],
      "source": [
        "ema100 = df.Close.ewm(span=100, adjust = False).mean()"
      ]
    },
    {
      "cell_type": "code",
      "execution_count": 37,
      "id": "bafdfc2c",
      "metadata": {
        "id": "bafdfc2c"
      },
      "outputs": [],
      "source": [
        "ema200 = df['Close'].ewm(span=200, adjust = False).mean()"
      ]
    },
    {
      "cell_type": "code",
      "execution_count": 38,
      "id": "2dbbbe85",
      "metadata": {
        "colab": {
          "base_uri": "https://localhost:8080/",
          "height": 428
        },
        "id": "2dbbbe85",
        "outputId": "18fa95c4-d4e9-43e0-d623-0f4090729a22"
      },
      "outputs": [
        {
          "data": {
            "image/png": "[encoded data removed]",
            "text/plain": [
              "<Figure size 1200x600 with 1 Axes>"
            ]
          },
          "metadata": {},
          "output_type": "display_data"
        }
      ],
      "source": [
        "plt.figure(figsize=(12, 6))\n",
        "plt.plot(df.Close, label = f'{stock} Close Price', linewidth = 1)\n",
        "plt.plot(ema100, label = f'{stock} Exp. Moving Average 100 Price', linewidth = 1)\n",
        "plt.plot(ema200, label = f'{stock} Exp. Moving Average 200 Price', linewidth = 1)\n",
        "plt.legend()\n",
        "plt.show()"
      ]
    },
    {
      "cell_type": "code",
      "execution_count": 39,
      "id": "2b115100",
      "metadata": {
        "id": "2b115100"
      },
      "outputs": [],
      "source": [
        "# Training & Testing\n",
        "\n",
        "data_training = pd.DataFrame(df['Close'][0:int(len(df)*0.70)])\n",
        "data_testing = pd.DataFrame(df['Close'][int(len(df)*0.70): int(len(df))])"
      ]
    },
    {
      "cell_type": "code",
      "execution_count": 40,
      "id": "3a13c639",
      "metadata": {
        "colab": {
          "base_uri": "https://localhost:8080/"
        },
        "id": "3a13c639",
        "outputId": "20f4bf16-a85a-4226-e98e-72be5290377e"
      },
      "outputs": [
        {
          "data": {
            "text/plain": [
              "(2945, 1)"
            ]
          },
          "execution_count": 40,
          "metadata": {},
          "output_type": "execute_result"
        }
      ],
      "source": [
        "data_training.shape"
      ]
    },
    {
      "cell_type": "code",
      "execution_count": 41,
      "id": "fd2e2e08",
      "metadata": {
        "colab": {
          "base_uri": "https://localhost:8080/"
        },
        "id": "fd2e2e08",
        "outputId": "79b6292d-df69-4023-af2d-74e2b41e5ea6"
      },
      "outputs": [
        {
          "data": {
            "text/plain": [
              "(1263, 1)"
            ]
          },
          "execution_count": 41,
          "metadata": {},
          "output_type": "execute_result"
        }
      ],
      "source": [
        "data_testing.shape"
      ]
    },
    {
      "cell_type": "code",
      "execution_count": null,
      "id": "8946cffb",
      "metadata": {},
      "outputs": [],
      "source": [
        "\n"
      ]
    },
    {
      "cell_type": "code",
      "execution_count": 42,
      "id": "e88d712b",
      "metadata": {
        "id": "e88d712b"
      },
      "outputs": [],
      "source": [
        "\n",
        "\n",
        "from sklearn.preprocessing import MinMaxScaler\n",
        "\n",
        "scaler = MinMaxScaler(feature_range = (0, 1))"
      ]
    },
    {
      "cell_type": "code",
      "execution_count": 43,
      "id": "04e90c1b",
      "metadata": {
        "id": "04e90c1b"
      },
      "outputs": [],
      "source": [
        "data_training_array = scaler.fit_transform(data_training)"
      ]
    },
    {
      "cell_type": "code",
      "execution_count": 44,
      "id": "59e42d9d",
      "metadata": {
        "colab": {
          "base_uri": "https://localhost:8080/"
        },
        "id": "59e42d9d",
        "outputId": "8e536f8f-4054-41b6-bc81-685221904a57"
      },
      "outputs": [
        {
          "data": {
            "text/plain": [
              "array([[0.19808612],\n",
              "       [0.17371831],\n",
              "       [0.20447378],\n",
              "       ...,\n",
              "       [0.90774455],\n",
              "       [0.86000386],\n",
              "       [0.87299639]])"
            ]
          },
          "execution_count": 44,
          "metadata": {},
          "output_type": "execute_result"
        }
      ],
      "source": [
        "data_training_array"
      ]
    },
    {
      "cell_type": "code",
      "execution_count": 45,
      "id": "f7b5802b",
      "metadata": {
        "colab": {
          "base_uri": "https://localhost:8080/"
        },
        "id": "f7b5802b",
        "outputId": "709c2f23-499b-4eaf-9f92-32fe160e5fb4"
      },
      "outputs": [
        {
          "data": {
            "text/plain": [
              "2945"
            ]
          },
          "execution_count": 45,
          "metadata": {},
          "output_type": "execute_result"
        }
      ],
      "source": [
        "data_training_array.shape[0]"
      ]
    },
    {
      "cell_type": "code",
      "execution_count": 46,
      "id": "05ce4e1f",
      "metadata": {
        "id": "05ce4e1f"
      },
      "outputs": [],
      "source": [
        "x_train = []\n",
        "y_train = []\n",
        "\n",
        "for i in range(100, data_training_array.shape[0]):\n",
        "    x_train.append(data_training_array[i-100:i])\n",
        "    y_train.append(data_training_array[i, 0])\n",
        "\n",
        "x_train, y_train  = np.array(x_train), np.array(y_train)"
      ]
    },
    {
      "cell_type": "code",
      "execution_count": 47,
      "id": "c9bc1a7d",
      "metadata": {
        "colab": {
          "base_uri": "https://localhost:8080/"
        },
        "id": "c9bc1a7d",
        "outputId": "991b2eee-dbf5-4a21-a368-de0dd8ef2d36"
      },
      "outputs": [
        {
          "data": {
            "text/plain": [
              "(2845, 100, 1)"
            ]
          },
          "execution_count": 47,
          "metadata": {},
          "output_type": "execute_result"
        }
      ],
      "source": [
        "x_train.shape"
      ]
    },
    {
      "cell_type": "code",
      "execution_count": null,
      "id": "6f63459a",
      "metadata": {},
      "outputs": [],
      "source": []
    },
    {
      "cell_type": "code",
      "execution_count": null,
      "id": "2d0d39d0",
      "metadata": {},
      "outputs": [],
      "source": []
    },
    {
      "cell_type": "code",
      "execution_count": 48,
      "id": "37138065",
      "metadata": {
        "id": "37138065"
      },
      "outputs": [],
      "source": [
        "# Model Building\n",
        "from keras.layers import Dense, Dropout, LSTM # type: ignore\n",
        "from keras.models import Sequential # type: ignore"
      ]
    },
    {
      "cell_type": "markdown",
      "id": "e244f7e3",
      "metadata": {
        "id": "e244f7e3"
      },
      "source": [
        "LSTM Input -> 3D Array (batch_size, time_steps, seq_len)\n",
        "LSTM 2D OR 3D\n",
        "2D -> (batch_sizem units)\n",
        "3D -> (batch_size, time_steps, units)"
      ]
    },
    {
      "cell_type": "code",
      "execution_count": 49,
      "id": "e1aba925",
      "metadata": {
        "colab": {
          "base_uri": "https://localhost:8080/"
        },
        "id": "e1aba925",
        "outputId": "4226b17e-c649-4ff5-e0ba-4ee59821e05e"
      },
      "outputs": [
        {
          "name": "stderr",
          "output_type": "stream",
          "text": [
            "c:\\Users\\Abhishek patel\\miniconda3\\Lib\\site-packages\\keras\\src\\layers\\rnn\\rnn.py:200: UserWarning:\n",
            "\n",
            "Do not pass an `input_shape`/`input_dim` argument to a layer. When using Sequential models, prefer using an `Input(shape)` object as the first layer in the model instead.\n",
            "\n"
          ]
        }
      ],
      "source": [
        "model = Sequential()\n",
        "\n",
        "model.add(LSTM(units = 50, activation = 'relu', return_sequences = True, input_shape = (x_train.shape[1],1)))\n",
        "model.add(Dropout(0.2))\n",
        "\n",
        "model.add(LSTM(units = 60, activation = 'relu', return_sequences = True))\n",
        "model.add(Dropout(0.3))\n",
        "\n",
        "model.add(LSTM(units = 80, activation = 'relu', return_sequences = True))\n",
        "model.add(Dropout(0.4))\n",
        "\n",
        "model.add(LSTM(units = 120, activation = 'relu'))\n",
        "model.add(Dropout(0.5))\n",
        "\n",
        "model.add(Dense(units = 1))"
      ]
    },
    {
      "cell_type": "code",
      "execution_count": 50,
      "id": "7582cce0",
      "metadata": {
        "colab": {
          "base_uri": "https://localhost:8080/",
          "height": 417
        },
        "id": "7582cce0",
        "outputId": "b1a1946d-9480-4441-cda2-f88f2f209829"
      },
      "outputs": [
        {
          "data": {
            "text/html": [
              "<pre style=\"white-space:pre;overflow-x:auto;line-height:normal;font-family:Menlo,'DejaVu Sans Mono',consolas,'Courier New',monospace\"><span style=\"font-weight: bold\">Model: \"sequential\"</span>\n",
              "</pre>\n"
            ],
            "text/plain": [
              "\u001b[1mModel: \"sequential\"\u001b[0m\n"
            ]
          },
          "metadata": {},
          "output_type": "display_data"
        },
        {
          "data": {
            "text/html": [
              "<pre style=\"white-space:pre;overflow-x:auto;line-height:normal;font-family:Menlo,'DejaVu Sans Mono',consolas,'Courier New',monospace\">┏━━━━━━━━━━━━━━━━━━━━━━━━━━━━━━━━━┳━━━━━━━━━━━━━━━━━━━━━━━━┳━━━━━━━━━━━━━━━┓\n",
              "┃<span style=\"font-weight: bold\"> Layer (type)                    </span>┃<span style=\"font-weight: bold\"> Output Shape           </span>┃<span style=\"font-weight: bold\">       Param # </span>┃\n",
              "┡━━━━━━━━━━━━━━━━━━━━━━━━━━━━━━━━━╇━━━━━━━━━━━━━━━━━━━━━━━━╇━━━━━━━━━━━━━━━┩\n",
              "│ lstm (<span style=\"color: #0087ff; text-decoration-color: #0087ff\">LSTM</span>)                     │ (<span style=\"color: #00d7ff; text-decoration-color: #00d7ff\">None</span>, <span style=\"color: #00af00; text-decoration-color: #00af00\">100</span>, <span style=\"color: #00af00; text-decoration-color: #00af00\">50</span>)        │        <span style=\"color: #00af00; text-decoration-color: #00af00\">10,400</span> │\n",
              "├─────────────────────────────────┼────────────────────────┼───────────────┤\n",
              "│ dropout (<span style=\"color: #0087ff; text-decoration-color: #0087ff\">Dropout</span>)               │ (<span style=\"color: #00d7ff; text-decoration-color: #00d7ff\">None</span>, <span style=\"color: #00af00; text-decoration-color: #00af00\">100</span>, <span style=\"color: #00af00; text-decoration-color: #00af00\">50</span>)        │             <span style=\"color: #00af00; text-decoration-color: #00af00\">0</span> │\n",
              "├─────────────────────────────────┼────────────────────────┼───────────────┤\n",
              "│ lstm_1 (<span style=\"color: #0087ff; text-decoration-color: #0087ff\">LSTM</span>)                   │ (<span style=\"color: #00d7ff; text-decoration-color: #00d7ff\">None</span>, <span style=\"color: #00af00; text-decoration-color: #00af00\">100</span>, <span style=\"color: #00af00; text-decoration-color: #00af00\">60</span>)        │        <span style=\"color: #00af00; text-decoration-color: #00af00\">26,640</span> │\n",
              "├─────────────────────────────────┼────────────────────────┼───────────────┤\n",
              "│ dropout_1 (<span style=\"color: #0087ff; text-decoration-color: #0087ff\">Dropout</span>)             │ (<span style=\"color: #00d7ff; text-decoration-color: #00d7ff\">None</span>, <span style=\"color: #00af00; text-decoration-color: #00af00\">100</span>, <span style=\"color: #00af00; text-decoration-color: #00af00\">60</span>)        │             <span style=\"color: #00af00; text-decoration-color: #00af00\">0</span> │\n",
              "├─────────────────────────────────┼────────────────────────┼───────────────┤\n",
              "│ lstm_2 (<span style=\"color: #0087ff; text-decoration-color: #0087ff\">LSTM</span>)                   │ (<span style=\"color: #00d7ff; text-decoration-color: #00d7ff\">None</span>, <span style=\"color: #00af00; text-decoration-color: #00af00\">100</span>, <span style=\"color: #00af00; text-decoration-color: #00af00\">80</span>)        │        <span style=\"color: #00af00; text-decoration-color: #00af00\">45,120</span> │\n",
              "├─────────────────────────────────┼────────────────────────┼───────────────┤\n",
              "│ dropout_2 (<span style=\"color: #0087ff; text-decoration-color: #0087ff\">Dropout</span>)             │ (<span style=\"color: #00d7ff; text-decoration-color: #00d7ff\">None</span>, <span style=\"color: #00af00; text-decoration-color: #00af00\">100</span>, <span style=\"color: #00af00; text-decoration-color: #00af00\">80</span>)        │             <span style=\"color: #00af00; text-decoration-color: #00af00\">0</span> │\n",
              "├─────────────────────────────────┼────────────────────────┼───────────────┤\n",
              "│ lstm_3 (<span style=\"color: #0087ff; text-decoration-color: #0087ff\">LSTM</span>)                   │ (<span style=\"color: #00d7ff; text-decoration-color: #00d7ff\">None</span>, <span style=\"color: #00af00; text-decoration-color: #00af00\">120</span>)            │        <span style=\"color: #00af00; text-decoration-color: #00af00\">96,480</span> │\n",
              "├─────────────────────────────────┼────────────────────────┼───────────────┤\n",
              "│ dropout_3 (<span style=\"color: #0087ff; text-decoration-color: #0087ff\">Dropout</span>)             │ (<span style=\"color: #00d7ff; text-decoration-color: #00d7ff\">None</span>, <span style=\"color: #00af00; text-decoration-color: #00af00\">120</span>)            │             <span style=\"color: #00af00; text-decoration-color: #00af00\">0</span> │\n",
              "├─────────────────────────────────┼────────────────────────┼───────────────┤\n",
              "│ dense (<span style=\"color: #0087ff; text-decoration-color: #0087ff\">Dense</span>)                   │ (<span style=\"color: #00d7ff; text-decoration-color: #00d7ff\">None</span>, <span style=\"color: #00af00; text-decoration-color: #00af00\">1</span>)              │           <span style=\"color: #00af00; text-decoration-color: #00af00\">121</span> │\n",
              "└─────────────────────────────────┴────────────────────────┴───────────────┘\n",
              "</pre>\n"
            ],
            "text/plain": [
              "┏━━━━━━━━━━━━━━━━━━━━━━━━━━━━━━━━━┳━━━━━━━━━━━━━━━━━━━━━━━━┳━━━━━━━━━━━━━━━┓\n",
              "┃\u001b[1m \u001b[0m\u001b[1mLayer (type)                   \u001b[0m\u001b[1m \u001b[0m┃\u001b[1m \u001b[0m\u001b[1mOutput Shape          \u001b[0m\u001b[1m \u001b[0m┃\u001b[1m \u001b[0m\u001b[1m      Param #\u001b[0m\u001b[1m \u001b[0m┃\n",
              "┡━━━━━━━━━━━━━━━━━━━━━━━━━━━━━━━━━╇━━━━━━━━━━━━━━━━━━━━━━━━╇━━━━━━━━━━━━━━━┩\n",
              "│ lstm (\u001b[38;5;33mLSTM\u001b[0m)                     │ (\u001b[38;5;45mNone\u001b[0m, \u001b[38;5;34m100\u001b[0m, \u001b[38;5;34m50\u001b[0m)        │        \u001b[38;5;34m10,400\u001b[0m │\n",
              "├─────────────────────────────────┼────────────────────────┼───────────────┤\n",
              "│ dropout (\u001b[38;5;33mDropout\u001b[0m)               │ (\u001b[38;5;45mNone\u001b[0m, \u001b[38;5;34m100\u001b[0m, \u001b[38;5;34m50\u001b[0m)        │             \u001b[38;5;34m0\u001b[0m │\n",
              "├─────────────────────────────────┼────────────────────────┼───────────────┤\n",
              "│ lstm_1 (\u001b[38;5;33mLSTM\u001b[0m)                   │ (\u001b[38;5;45mNone\u001b[0m, \u001b[38;5;34m100\u001b[0m, \u001b[38;5;34m60\u001b[0m)        │        \u001b[38;5;34m26,640\u001b[0m │\n",
              "├─────────────────────────────────┼────────────────────────┼───────────────┤\n",
              "│ dropout_1 (\u001b[38;5;33mDropout\u001b[0m)             │ (\u001b[38;5;45mNone\u001b[0m, \u001b[38;5;34m100\u001b[0m, \u001b[38;5;34m60\u001b[0m)        │             \u001b[38;5;34m0\u001b[0m │\n",
              "├─────────────────────────────────┼────────────────────────┼───────────────┤\n",
              "│ lstm_2 (\u001b[38;5;33mLSTM\u001b[0m)                   │ (\u001b[38;5;45mNone\u001b[0m, \u001b[38;5;34m100\u001b[0m, \u001b[38;5;34m80\u001b[0m)        │        \u001b[38;5;34m45,120\u001b[0m │\n",
              "├─────────────────────────────────┼────────────────────────┼───────────────┤\n",
              "│ dropout_2 (\u001b[38;5;33mDropout\u001b[0m)             │ (\u001b[38;5;45mNone\u001b[0m, \u001b[38;5;34m100\u001b[0m, \u001b[38;5;34m80\u001b[0m)        │             \u001b[38;5;34m0\u001b[0m │\n",
              "├─────────────────────────────────┼────────────────────────┼───────────────┤\n",
              "│ lstm_3 (\u001b[38;5;33mLSTM\u001b[0m)                   │ (\u001b[38;5;45mNone\u001b[0m, \u001b[38;5;34m120\u001b[0m)            │        \u001b[38;5;34m96,480\u001b[0m │\n",
              "├─────────────────────────────────┼────────────────────────┼───────────────┤\n",
              "│ dropout_3 (\u001b[38;5;33mDropout\u001b[0m)             │ (\u001b[38;5;45mNone\u001b[0m, \u001b[38;5;34m120\u001b[0m)            │             \u001b[38;5;34m0\u001b[0m │\n",
              "├─────────────────────────────────┼────────────────────────┼───────────────┤\n",
              "│ dense (\u001b[38;5;33mDense\u001b[0m)                   │ (\u001b[38;5;45mNone\u001b[0m, \u001b[38;5;34m1\u001b[0m)              │           \u001b[38;5;34m121\u001b[0m │\n",
              "└─────────────────────────────────┴────────────────────────┴───────────────┘\n"
            ]
          },
          "metadata": {},
          "output_type": "display_data"
        },
        {
          "data": {
            "text/html": [
              "<pre style=\"white-space:pre;overflow-x:auto;line-height:normal;font-family:Menlo,'DejaVu Sans Mono',consolas,'Courier New',monospace\"><span style=\"font-weight: bold\"> Total params: </span><span style=\"color: #00af00; text-decoration-color: #00af00\">178,761</span> (698.29 KB)\n",
              "</pre>\n"
            ],
            "text/plain": [
              "\u001b[1m Total params: \u001b[0m\u001b[38;5;34m178,761\u001b[0m (698.29 KB)\n"
            ]
          },
          "metadata": {},
          "output_type": "display_data"
        },
        {
          "data": {
            "text/html": [
              "<pre style=\"white-space:pre;overflow-x:auto;line-height:normal;font-family:Menlo,'DejaVu Sans Mono',consolas,'Courier New',monospace\"><span style=\"font-weight: bold\"> Trainable params: </span><span style=\"color: #00af00; text-decoration-color: #00af00\">178,761</span> (698.29 KB)\n",
              "</pre>\n"
            ],
            "text/plain": [
              "\u001b[1m Trainable params: \u001b[0m\u001b[38;5;34m178,761\u001b[0m (698.29 KB)\n"
            ]
          },
          "metadata": {},
          "output_type": "display_data"
        },
        {
          "data": {
            "text/html": [
              "<pre style=\"white-space:pre;overflow-x:auto;line-height:normal;font-family:Menlo,'DejaVu Sans Mono',consolas,'Courier New',monospace\"><span style=\"font-weight: bold\"> Non-trainable params: </span><span style=\"color: #00af00; text-decoration-color: #00af00\">0</span> (0.00 B)\n",
              "</pre>\n"
            ],
            "text/plain": [
              "\u001b[1m Non-trainable params: \u001b[0m\u001b[38;5;34m0\u001b[0m (0.00 B)\n"
            ]
          },
          "metadata": {},
          "output_type": "display_data"
        }
      ],
      "source": [
        "model.summary()"
      ]
    },
    {
      "cell_type": "code",
      "execution_count": 51,
      "id": "19c821ce",
      "metadata": {
        "colab": {
          "base_uri": "https://localhost:8080/"
        },
        "id": "19c821ce",
        "outputId": "71f87761-1a22-4b31-d990-86ead1e96bae"
      },
      "outputs": [
        {
          "name": "stdout",
          "output_type": "stream",
          "text": [
            "Epoch 1/50\n",
            "\u001b[1m89/89\u001b[0m \u001b[32m━━━━━━━━━━━━━━━━━━━━\u001b[0m\u001b[37m\u001b[0m \u001b[1m19s\u001b[0m 124ms/step - loss: 0.0869\n",
            "Epoch 2/50\n",
            "\u001b[1m89/89\u001b[0m \u001b[32m━━━━━━━━━━━━━━━━━━━━\u001b[0m\u001b[37m\u001b[0m \u001b[1m12s\u001b[0m 135ms/step - loss: 0.0103\n",
            "Epoch 3/50\n",
            "\u001b[1m89/89\u001b[0m \u001b[32m━━━━━━━━━━━━━━━━━━━━\u001b[0m\u001b[37m\u001b[0m \u001b[1m13s\u001b[0m 146ms/step - loss: 0.0074\n",
            "Epoch 4/50\n",
            "\u001b[1m89/89\u001b[0m \u001b[32m━━━━━━━━━━━━━━━━━━━━\u001b[0m\u001b[37m\u001b[0m \u001b[1m13s\u001b[0m 146ms/step - loss: 0.0072\n",
            "Epoch 5/50\n",
            "\u001b[1m89/89\u001b[0m \u001b[32m━━━━━━━━━━━━━━━━━━━━\u001b[0m\u001b[37m\u001b[0m \u001b[1m13s\u001b[0m 151ms/step - loss: 0.0065\n",
            "Epoch 6/50\n",
            "\u001b[1m89/89\u001b[0m \u001b[32m━━━━━━━━━━━━━━━━━━━━\u001b[0m\u001b[37m\u001b[0m \u001b[1m13s\u001b[0m 147ms/step - loss: 0.0063\n",
            "Epoch 7/50\n",
            "\u001b[1m89/89\u001b[0m \u001b[32m━━━━━━━━━━━━━━━━━━━━\u001b[0m\u001b[37m\u001b[0m \u001b[1m14s\u001b[0m 154ms/step - loss: 0.0061\n",
            "Epoch 8/50\n",
            "\u001b[1m89/89\u001b[0m \u001b[32m━━━━━━━━━━━━━━━━━━━━\u001b[0m\u001b[37m\u001b[0m \u001b[1m13s\u001b[0m 151ms/step - loss: 0.0065\n",
            "Epoch 9/50\n",
            "\u001b[1m89/89\u001b[0m \u001b[32m━━━━━━━━━━━━━━━━━━━━\u001b[0m\u001b[37m\u001b[0m \u001b[1m14s\u001b[0m 154ms/step - loss: 0.0056\n",
            "Epoch 10/50\n",
            "\u001b[1m89/89\u001b[0m \u001b[32m━━━━━━━━━━━━━━━━━━━━\u001b[0m\u001b[37m\u001b[0m \u001b[1m13s\u001b[0m 147ms/step - loss: 0.0058\n",
            "Epoch 11/50\n",
            "\u001b[1m89/89\u001b[0m \u001b[32m━━━━━━━━━━━━━━━━━━━━\u001b[0m\u001b[37m\u001b[0m \u001b[1m13s\u001b[0m 150ms/step - loss: 0.0051\n",
            "Epoch 12/50\n",
            "\u001b[1m89/89\u001b[0m \u001b[32m━━━━━━━━━━━━━━━━━━━━\u001b[0m\u001b[37m\u001b[0m \u001b[1m11s\u001b[0m 126ms/step - loss: 0.0048\n",
            "Epoch 13/50\n",
            "\u001b[1m89/89\u001b[0m \u001b[32m━━━━━━━━━━━━━━━━━━━━\u001b[0m\u001b[37m\u001b[0m \u001b[1m11s\u001b[0m 120ms/step - loss: 0.0040\n",
            "Epoch 14/50\n",
            "\u001b[1m89/89\u001b[0m \u001b[32m━━━━━━━━━━━━━━━━━━━━\u001b[0m\u001b[37m\u001b[0m \u001b[1m11s\u001b[0m 125ms/step - loss: 0.0046\n",
            "Epoch 15/50\n",
            "\u001b[1m89/89\u001b[0m \u001b[32m━━━━━━━━━━━━━━━━━━━━\u001b[0m\u001b[37m\u001b[0m \u001b[1m12s\u001b[0m 134ms/step - loss: 0.0039\n",
            "Epoch 16/50\n",
            "\u001b[1m89/89\u001b[0m \u001b[32m━━━━━━━━━━━━━━━━━━━━\u001b[0m\u001b[37m\u001b[0m \u001b[1m12s\u001b[0m 135ms/step - loss: 0.0043\n",
            "Epoch 17/50\n",
            "\u001b[1m89/89\u001b[0m \u001b[32m━━━━━━━━━━━━━━━━━━━━\u001b[0m\u001b[37m\u001b[0m \u001b[1m12s\u001b[0m 134ms/step - loss: 0.0041\n",
            "Epoch 18/50\n",
            "\u001b[1m89/89\u001b[0m \u001b[32m━━━━━━━━━━━━━━━━━━━━\u001b[0m\u001b[37m\u001b[0m \u001b[1m13s\u001b[0m 141ms/step - loss: 0.0036\n",
            "Epoch 19/50\n",
            "\u001b[1m89/89\u001b[0m \u001b[32m━━━━━━━━━━━━━━━━━━━━\u001b[0m\u001b[37m\u001b[0m \u001b[1m13s\u001b[0m 143ms/step - loss: 0.0034\n",
            "Epoch 20/50\n",
            "\u001b[1m89/89\u001b[0m \u001b[32m━━━━━━━━━━━━━━━━━━━━\u001b[0m\u001b[37m\u001b[0m \u001b[1m12s\u001b[0m 138ms/step - loss: 0.0032\n",
            "Epoch 21/50\n",
            "\u001b[1m89/89\u001b[0m \u001b[32m━━━━━━━━━━━━━━━━━━━━\u001b[0m\u001b[37m\u001b[0m \u001b[1m12s\u001b[0m 138ms/step - loss: 0.0038\n",
            "Epoch 22/50\n",
            "\u001b[1m89/89\u001b[0m \u001b[32m━━━━━━━━━━━━━━━━━━━━\u001b[0m\u001b[37m\u001b[0m \u001b[1m12s\u001b[0m 137ms/step - loss: 0.0030\n",
            "Epoch 23/50\n",
            "\u001b[1m89/89\u001b[0m \u001b[32m━━━━━━━━━━━━━━━━━━━━\u001b[0m\u001b[37m\u001b[0m \u001b[1m12s\u001b[0m 136ms/step - loss: 0.0026\n",
            "Epoch 24/50\n",
            "\u001b[1m89/89\u001b[0m \u001b[32m━━━━━━━━━━━━━━━━━━━━\u001b[0m\u001b[37m\u001b[0m \u001b[1m12s\u001b[0m 137ms/step - loss: 0.0029\n",
            "Epoch 25/50\n",
            "\u001b[1m89/89\u001b[0m \u001b[32m━━━━━━━━━━━━━━━━━━━━\u001b[0m\u001b[37m\u001b[0m \u001b[1m12s\u001b[0m 137ms/step - loss: 0.0030\n",
            "Epoch 26/50\n",
            "\u001b[1m89/89\u001b[0m \u001b[32m━━━━━━━━━━━━━━━━━━━━\u001b[0m\u001b[37m\u001b[0m \u001b[1m12s\u001b[0m 137ms/step - loss: 0.0030\n",
            "Epoch 27/50\n",
            "\u001b[1m89/89\u001b[0m \u001b[32m━━━━━━━━━━━━━━━━━━━━\u001b[0m\u001b[37m\u001b[0m \u001b[1m12s\u001b[0m 138ms/step - loss: 0.0027\n",
            "Epoch 28/50\n",
            "\u001b[1m89/89\u001b[0m \u001b[32m━━━━━━━━━━━━━━━━━━━━\u001b[0m\u001b[37m\u001b[0m \u001b[1m12s\u001b[0m 139ms/step - loss: 0.0026\n",
            "Epoch 29/50\n",
            "\u001b[1m89/89\u001b[0m \u001b[32m━━━━━━━━━━━━━━━━━━━━\u001b[0m\u001b[37m\u001b[0m \u001b[1m13s\u001b[0m 145ms/step - loss: 0.0034\n",
            "Epoch 30/50\n",
            "\u001b[1m89/89\u001b[0m \u001b[32m━━━━━━━━━━━━━━━━━━━━\u001b[0m\u001b[37m\u001b[0m \u001b[1m13s\u001b[0m 146ms/step - loss: 0.0027\n",
            "Epoch 31/50\n",
            "\u001b[1m89/89\u001b[0m \u001b[32m━━━━━━━━━━━━━━━━━━━━\u001b[0m\u001b[37m\u001b[0m \u001b[1m13s\u001b[0m 140ms/step - loss: 0.0024\n",
            "Epoch 32/50\n",
            "\u001b[1m89/89\u001b[0m \u001b[32m━━━━━━━━━━━━━━━━━━━━\u001b[0m\u001b[37m\u001b[0m \u001b[1m12s\u001b[0m 138ms/step - loss: 0.0026\n",
            "Epoch 33/50\n",
            "\u001b[1m89/89\u001b[0m \u001b[32m━━━━━━━━━━━━━━━━━━━━\u001b[0m\u001b[37m\u001b[0m \u001b[1m12s\u001b[0m 138ms/step - loss: 0.0025\n",
            "Epoch 34/50\n",
            "\u001b[1m89/89\u001b[0m \u001b[32m━━━━━━━━━━━━━━━━━━━━\u001b[0m\u001b[37m\u001b[0m \u001b[1m12s\u001b[0m 137ms/step - loss: 0.0026\n",
            "Epoch 35/50\n",
            "\u001b[1m89/89\u001b[0m \u001b[32m━━━━━━━━━━━━━━━━━━━━\u001b[0m\u001b[37m\u001b[0m \u001b[1m12s\u001b[0m 138ms/step - loss: 0.0024\n",
            "Epoch 36/50\n",
            "\u001b[1m89/89\u001b[0m \u001b[32m━━━━━━━━━━━━━━━━━━━━\u001b[0m\u001b[37m\u001b[0m \u001b[1m12s\u001b[0m 138ms/step - loss: 0.0026\n",
            "Epoch 37/50\n",
            "\u001b[1m89/89\u001b[0m \u001b[32m━━━━━━━━━━━━━━━━━━━━\u001b[0m\u001b[37m\u001b[0m \u001b[1m12s\u001b[0m 138ms/step - loss: 0.0025\n",
            "Epoch 38/50\n",
            "\u001b[1m89/89\u001b[0m \u001b[32m━━━━━━━━━━━━━━━━━━━━\u001b[0m\u001b[37m\u001b[0m \u001b[1m12s\u001b[0m 137ms/step - loss: 0.0026\n",
            "Epoch 39/50\n",
            "\u001b[1m89/89\u001b[0m \u001b[32m━━━━━━━━━━━━━━━━━━━━\u001b[0m\u001b[37m\u001b[0m \u001b[1m12s\u001b[0m 138ms/step - loss: 0.0024\n",
            "Epoch 40/50\n",
            "\u001b[1m89/89\u001b[0m \u001b[32m━━━━━━━━━━━━━━━━━━━━\u001b[0m\u001b[37m\u001b[0m \u001b[1m12s\u001b[0m 140ms/step - loss: 0.0023\n",
            "Epoch 41/50\n",
            "\u001b[1m89/89\u001b[0m \u001b[32m━━━━━━━━━━━━━━━━━━━━\u001b[0m\u001b[37m\u001b[0m \u001b[1m12s\u001b[0m 137ms/step - loss: 0.0023\n",
            "Epoch 42/50\n",
            "\u001b[1m89/89\u001b[0m \u001b[32m━━━━━━━━━━━━━━━━━━━━\u001b[0m\u001b[37m\u001b[0m \u001b[1m12s\u001b[0m 139ms/step - loss: 0.0022\n",
            "Epoch 43/50\n",
            "\u001b[1m89/89\u001b[0m \u001b[32m━━━━━━━━━━━━━━━━━━━━\u001b[0m\u001b[37m\u001b[0m \u001b[1m12s\u001b[0m 138ms/step - loss: 0.0023\n",
            "Epoch 44/50\n",
            "\u001b[1m89/89\u001b[0m \u001b[32m━━━━━━━━━━━━━━━━━━━━\u001b[0m\u001b[37m\u001b[0m \u001b[1m12s\u001b[0m 140ms/step - loss: 0.0023\n",
            "Epoch 45/50\n",
            "\u001b[1m89/89\u001b[0m \u001b[32m━━━━━━━━━━━━━━━━━━━━\u001b[0m\u001b[37m\u001b[0m \u001b[1m13s\u001b[0m 141ms/step - loss: 0.0022\n",
            "Epoch 46/50\n",
            "\u001b[1m89/89\u001b[0m \u001b[32m━━━━━━━━━━━━━━━━━━━━\u001b[0m\u001b[37m\u001b[0m \u001b[1m13s\u001b[0m 140ms/step - loss: 0.0026\n",
            "Epoch 47/50\n",
            "\u001b[1m89/89\u001b[0m \u001b[32m━━━━━━━━━━━━━━━━━━━━\u001b[0m\u001b[37m\u001b[0m \u001b[1m13s\u001b[0m 143ms/step - loss: 0.0024\n",
            "Epoch 48/50\n",
            "\u001b[1m89/89\u001b[0m \u001b[32m━━━━━━━━━━━━━━━━━━━━\u001b[0m\u001b[37m\u001b[0m \u001b[1m13s\u001b[0m 143ms/step - loss: 0.0023\n",
            "Epoch 49/50\n",
            "\u001b[1m89/89\u001b[0m \u001b[32m━━━━━━━━━━━━━━━━━━━━\u001b[0m\u001b[37m\u001b[0m \u001b[1m13s\u001b[0m 140ms/step - loss: 0.0022\n",
            "Epoch 50/50\n",
            "\u001b[1m89/89\u001b[0m \u001b[32m━━━━━━━━━━━━━━━━━━━━\u001b[0m\u001b[37m\u001b[0m \u001b[1m13s\u001b[0m 144ms/step - loss: 0.0024\n"
          ]
        },
        {
          "data": {
            "text/plain": [
              "<keras.src.callbacks.history.History at 0x1d2aad5cd10>"
            ]
          },
          "execution_count": 51,
          "metadata": {},
          "output_type": "execute_result"
        }
      ],
      "source": [
        "model.compile(optimizer = 'adam', loss = 'mean_squared_error')\n",
        "model.fit(x_train, y_train, epochs = 50)"
      ]
    },
    {
      "cell_type": "code",
      "execution_count": 52,
      "id": "18ac2a10",
      "metadata": {
        "id": "18ac2a10"
      },
      "outputs": [],
      "source": [
        "past_100_days = data_training.tail(100)"
      ]
    },
    {
      "cell_type": "code",
      "execution_count": null,
      "id": "fe2e5a90",
      "metadata": {
        "id": "fe2e5a90"
      },
      "outputs": [],
      "source": [
        "final_df = pd.concat([past_100_days, data_testing], ignore_index=True)"
      ]
    },
    {
      "cell_type": "code",
      "execution_count": null,
      "id": "d8eed9c8",
      "metadata": {
        "colab": {
          "base_uri": "https://localhost:8080/",
          "height": 206
        },
        "id": "d8eed9c8",
        "outputId": "af33cd7b-91e6-44ce-f14c-89ce14197af1"
      },
      "outputs": [
        {
          "data": {
            "text/html": [
              "<div>\n",
              "<style scoped>\n",
              "    .dataframe tbody tr th:only-of-type {\n",
              "        vertical-align: middle;\n",
              "    }\n",
              "\n",
              "    .dataframe tbody tr th {\n",
              "        vertical-align: top;\n",
              "    }\n",
              "\n",
              "    .dataframe thead th {\n",
              "        text-align: right;\n",
              "    }\n",
              "</style>\n",
              "<table border=\"1\" class=\"dataframe\">\n",
              "  <thead>\n",
              "    <tr style=\"text-align: right;\">\n",
              "      <th>Ticker</th>\n",
              "      <th>POWERGRID.NS</th>\n",
              "    </tr>\n",
              "  </thead>\n",
              "  <tbody>\n",
              "    <tr>\n",
              "      <th>0</th>\n",
              "      <td>75.731842</td>\n",
              "    </tr>\n",
              "    <tr>\n",
              "      <th>1</th>\n",
              "      <td>77.275726</td>\n",
              "    </tr>\n",
              "    <tr>\n",
              "      <th>2</th>\n",
              "      <td>77.539810</td>\n",
              "    </tr>\n",
              "    <tr>\n",
              "      <th>3</th>\n",
              "      <td>77.377304</td>\n",
              "    </tr>\n",
              "    <tr>\n",
              "      <th>4</th>\n",
              "      <td>77.824211</td>\n",
              "    </tr>\n",
              "  </tbody>\n",
              "</table>\n",
              "</div>"
            ],
            "text/plain": [
              "Ticker  POWERGRID.NS\n",
              "0          75.731842\n",
              "1          77.275726\n",
              "2          77.539810\n",
              "3          77.377304\n",
              "4          77.824211"
            ]
          },
          "execution_count": 96,
          "metadata": {},
          "output_type": "execute_result"
        }
      ],
      "source": [
        "final_df.head()"
      ]
    },
    {
      "cell_type": "code",
      "execution_count": null,
      "id": "7fb56075",
      "metadata": {
        "id": "7fb56075"
      },
      "outputs": [],
      "source": [
        "input_data = scaler.fit_transform(final_df)"
      ]
    },
    {
      "cell_type": "code",
      "execution_count": null,
      "id": "d57eb5c1",
      "metadata": {
        "id": "d57eb5c1"
      },
      "outputs": [],
      "source": [
        "x_test = []\n",
        "y_test = []\n",
        "\n",
        "for i in range(100, input_data.shape[0]):\n",
        "    x_test.append(input_data[i-100:i])\n",
        "    y_test.append(input_data[i, 0])\n",
        "\n",
        "x_test, y_test  = np.array(x_test), np.array(y_test)"
      ]
    },
    {
      "cell_type": "code",
      "execution_count": null,
      "id": "3c3e8a62",
      "metadata": {
        "colab": {
          "base_uri": "https://localhost:8080/"
        },
        "id": "3c3e8a62",
        "outputId": "617275e5-2748-4ffb-cedd-f36070fa822e"
      },
      "outputs": [
        {
          "data": {
            "text/plain": [
              "(1263, 100, 1)"
            ]
          },
          "execution_count": 99,
          "metadata": {},
          "output_type": "execute_result"
        }
      ],
      "source": [
        "x_test.shape"
      ]
    },
    {
      "cell_type": "code",
      "execution_count": null,
      "id": "29aee9a6",
      "metadata": {
        "colab": {
          "base_uri": "https://localhost:8080/"
        },
        "id": "29aee9a6",
        "outputId": "fb120cc6-e3c7-4c03-8a84-16fa52c1bdc6"
      },
      "outputs": [
        {
          "name": "stdout",
          "output_type": "stream",
          "text": [
            "\u001b[1m40/40\u001b[0m \u001b[32m━━━━━━━━━━━━━━━━━━━━\u001b[0m\u001b[37m\u001b[0m \u001b[1m3s\u001b[0m 57ms/step\n"
          ]
        }
      ],
      "source": [
        "y_predicted = model.predict(x_test)"
      ]
    },
    {
      "cell_type": "code",
      "execution_count": null,
      "id": "ea8d33a4",
      "metadata": {
        "colab": {
          "base_uri": "https://localhost:8080/"
        },
        "id": "ea8d33a4",
        "outputId": "4a45a3b8-3f5d-4302-f8fa-353036d33b7e"
      },
      "outputs": [
        {
          "data": {
            "text/plain": [
              "(1263, 1)"
            ]
          },
          "execution_count": 101,
          "metadata": {},
          "output_type": "execute_result"
        }
      ],
      "source": [
        "y_predicted.shape"
      ]
    },
    {
      "cell_type": "code",
      "execution_count": null,
      "id": "90d7daa7",
      "metadata": {
        "colab": {
          "base_uri": "https://localhost:8080/"
        },
        "id": "90d7daa7",
        "outputId": "ff171731-e9e0-45a2-f994-9853a66f10a9"
      },
      "outputs": [
        {
          "data": {
            "text/plain": [
              "array([0.00339369])"
            ]
          },
          "execution_count": 102,
          "metadata": {},
          "output_type": "execute_result"
        }
      ],
      "source": [
        "scaler.scale_"
      ]
    },
    {
      "cell_type": "code",
      "execution_count": null,
      "id": "ac76c061",
      "metadata": {
        "id": "ac76c061"
      },
      "outputs": [],
      "source": [
        "scaler_factor = 1 / 0.0035166\n",
        "y_predicted = y_predicted * scaler_factor\n",
        "y_test = y_test * scaler_factor"
      ]
    },
    {
      "cell_type": "code",
      "execution_count": null,
      "id": "2d2c784e",
      "metadata": {
        "colab": {
          "base_uri": "https://localhost:8080/",
          "height": 428
        },
        "id": "2d2c784e",
        "outputId": "f9b9bd21-6143-487e-d070-bed143958f4f"
      },
      "outputs": [
        {
          "data": {
            "image/png": "[encoded data removed]",
            "text/plain": [
              "<Figure size 1200x600 with 1 Axes>"
            ]
          },
          "metadata": {},
          "output_type": "display_data"
        }
      ],
      "source": [
        "plt.figure(figsize=(12, 6))\n",
        "plt.plot(y_test, label = 'Original Price', linewidth = 1)\n",
        "plt.plot(y_predicted, label = 'Predicted Price', linewidth = 1)\n",
        "plt.legend()\n",
        "plt.show()"
      ]
    },
    {
      "cell_type": "code",
      "execution_count": null,
      "id": "da2451b2",
      "metadata": {
        "colab": {
          "base_uri": "https://localhost:8080/"
        },
        "id": "da2451b2",
        "outputId": "3f9be941-4c97-4c6c-ebd7-095c2c68dd7f"
      },
      "outputs": [
        {
          "name": "stderr",
          "output_type": "stream",
          "text": [
            "WARNING:absl:You are saving your model as an HDF5 file via `model.save()` or `keras.saving.save_model(model)`. This file format is considered legacy. We recommend using instead the native Keras format, e.g. `model.save('my_model.keras')` or `keras.saving.save_model(model, 'my_model.keras')`. \n"
          ]
        }
      ],
      "source": [
        "model.save('stock_dl_model.h5')"
      ]
    },
    {
      "cell_type": "code",
      "execution_count": null,
      "id": "5639f8bc",
      "metadata": {
        "id": "5639f8bc"
      },
      "outputs": [],
      "source": []
    },
    {
      "cell_type": "code",
      "execution_count": null,
      "id": "67d5c8a7",
      "metadata": {},
      "outputs": [],
      "source": []
    }
  ],
  "metadata": {
    "colab": {
      "provenance": []
    },
    "kernelspec": {
      "display_name": "base",
      "language": "python",
      "name": "python3"
    },
    "language_info": {
      "codemirror_mode": {
        "name": "ipython",
        "version": 3
      },
      "file_extension": ".py",
      "mimetype": "text/x-python",
      "name": "python",
      "nbconvert_exporter": "python",
      "pygments_lexer": "ipython3",
      "version": "3.12.9"
    }
  },
  "nbformat": 4,
  "nbformat_minor": 5
}
